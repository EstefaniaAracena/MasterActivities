{
 "cells": [
  {
   "cell_type": "markdown",
   "id": "de1406ba",
   "metadata": {},
   "source": [
    "<img src=\"https://www.unir.net/wp-content/uploads/2019/11/Unir_2021_logo.svg\" width=\"240\" height=\"240\" align=\"right\"/>"
   ]
  },
  {
   "cell_type": "markdown",
   "id": "8b6f603c",
   "metadata": {},
   "source": [
    "<center><h1>Técnicas de Inteligencia Artificial</header1></center>\n",
    "<left><h1>Actividad 2. Trabajando con redes neuronales y Deep Learning</header1></left>"
   ]
  },
  {
   "cell_type": "markdown",
   "id": "3eb1aaac",
   "metadata": {},
   "source": [
    "Presentado por: Estefania Del Pilar Aracena Vallejos  <br>\n",
    "Fecha: 26/05/2023"
   ]
  },
  {
   "cell_type": "markdown",
   "id": "1dec299b",
   "metadata": {
    "ExecuteTime": {
     "end_time": "2022-03-14T15:14:04.930713Z",
     "start_time": "2022-03-14T15:14:04.921682Z"
    }
   },
   "source": [
    "# Importación de librerias necesarias"
   ]
  },
  {
   "cell_type": "markdown",
   "id": "62f9424f",
   "metadata": {},
   "source": [
    "# Parte II. Clasificación"
   ]
  },
  {
   "cell_type": "code",
   "execution_count": 1,
   "id": "6d1abf7a",
   "metadata": {
    "ExecuteTime": {
     "end_time": "2022-03-14T15:14:46.228059Z",
     "start_time": "2022-03-14T15:14:46.223108Z"
    }
   },
   "outputs": [
    {
     "name": "stdout",
     "output_type": "stream",
     "text": [
      "2.12.0\n"
     ]
    }
   ],
   "source": [
    "#Para esta actividad se importarán las siguientes librerías:\n",
    "import pandas as pd\n",
    "import numpy as np\n",
    "from tabulate import tabulate\n",
    "import seaborn as sns\n",
    "import matplotlib.pyplot as plt\n",
    "from sklearn.model_selection import train_test_split\n",
    "import tensorflow as tf\n",
    "from tensorflow import keras\n",
    "from tensorflow.keras import layers\n",
    "from sklearn.ensemble import RandomForestClassifier\n",
    "from sklearn.svm import SVC\n",
    "from sklearn.metrics import roc_curve, auc\n",
    "from sklearn.metrics import accuracy_score\n",
    "from sklearn.metrics import RocCurveDisplay\n",
    "from itertools import cycle\n",
    "from sklearn.metrics import confusion_matrix\n",
    "from sklearn.model_selection import cross_val_score\n",
    "from tensorflow.keras.optimizers import Adam\n",
    "from scikeras.wrappers import KerasClassifier, KerasRegressor\n",
    "print(tf.__version__)"
   ]
  },
  {
   "cell_type": "markdown",
   "id": "6a44b924",
   "metadata": {},
   "source": [
    "## Cargar el Dataset\n",
    "\n",
    "Con al menos 1000 instancias, una variable/atributo de la salida, y que dependa de, al menos, 6 variables/atributos de entrada. "
   ]
  },
  {
   "cell_type": "code",
   "execution_count": 2,
   "id": "3541e808",
   "metadata": {},
   "outputs": [
    {
     "data": {
      "text/html": [
       "<div>\n",
       "<style scoped>\n",
       "    .dataframe tbody tr th:only-of-type {\n",
       "        vertical-align: middle;\n",
       "    }\n",
       "\n",
       "    .dataframe tbody tr th {\n",
       "        vertical-align: top;\n",
       "    }\n",
       "\n",
       "    .dataframe thead th {\n",
       "        text-align: right;\n",
       "    }\n",
       "</style>\n",
       "<table border=\"1\" class=\"dataframe\">\n",
       "  <thead>\n",
       "    <tr style=\"text-align: right;\">\n",
       "      <th></th>\n",
       "      <th>mcg</th>\n",
       "      <th>gvh</th>\n",
       "      <th>alm</th>\n",
       "      <th>mit</th>\n",
       "      <th>erl</th>\n",
       "      <th>pox</th>\n",
       "      <th>vac</th>\n",
       "      <th>nuc</th>\n",
       "      <th>name</th>\n",
       "    </tr>\n",
       "  </thead>\n",
       "  <tbody>\n",
       "    <tr>\n",
       "      <th>0</th>\n",
       "      <td>0.51</td>\n",
       "      <td>0.40</td>\n",
       "      <td>0.56</td>\n",
       "      <td>0.17</td>\n",
       "      <td>0.5</td>\n",
       "      <td>0.0</td>\n",
       "      <td>0.49</td>\n",
       "      <td>0.22</td>\n",
       "      <td>CYT</td>\n",
       "    </tr>\n",
       "    <tr>\n",
       "      <th>1</th>\n",
       "      <td>0.40</td>\n",
       "      <td>0.39</td>\n",
       "      <td>0.60</td>\n",
       "      <td>0.15</td>\n",
       "      <td>0.5</td>\n",
       "      <td>0.0</td>\n",
       "      <td>0.58</td>\n",
       "      <td>0.30</td>\n",
       "      <td>CYT</td>\n",
       "    </tr>\n",
       "    <tr>\n",
       "      <th>2</th>\n",
       "      <td>0.40</td>\n",
       "      <td>0.42</td>\n",
       "      <td>0.57</td>\n",
       "      <td>0.35</td>\n",
       "      <td>0.5</td>\n",
       "      <td>0.0</td>\n",
       "      <td>0.53</td>\n",
       "      <td>0.25</td>\n",
       "      <td>CYT</td>\n",
       "    </tr>\n",
       "    <tr>\n",
       "      <th>3</th>\n",
       "      <td>0.46</td>\n",
       "      <td>0.44</td>\n",
       "      <td>0.52</td>\n",
       "      <td>0.11</td>\n",
       "      <td>0.5</td>\n",
       "      <td>0.0</td>\n",
       "      <td>0.50</td>\n",
       "      <td>0.22</td>\n",
       "      <td>CYT</td>\n",
       "    </tr>\n",
       "    <tr>\n",
       "      <th>4</th>\n",
       "      <td>0.47</td>\n",
       "      <td>0.39</td>\n",
       "      <td>0.50</td>\n",
       "      <td>0.11</td>\n",
       "      <td>0.5</td>\n",
       "      <td>0.0</td>\n",
       "      <td>0.49</td>\n",
       "      <td>0.40</td>\n",
       "      <td>CYT</td>\n",
       "    </tr>\n",
       "  </tbody>\n",
       "</table>\n",
       "</div>"
      ],
      "text/plain": [
       "    mcg   gvh   alm   mit  erl  pox   vac   nuc name\n",
       "0  0.51  0.40  0.56  0.17  0.5  0.0  0.49  0.22  CYT\n",
       "1  0.40  0.39  0.60  0.15  0.5  0.0  0.58  0.30  CYT\n",
       "2  0.40  0.42  0.57  0.35  0.5  0.0  0.53  0.25  CYT\n",
       "3  0.46  0.44  0.52  0.11  0.5  0.0  0.50  0.22  CYT\n",
       "4  0.47  0.39  0.50  0.11  0.5  0.0  0.49  0.40  CYT"
      ]
     },
     "execution_count": 2,
     "metadata": {},
     "output_type": "execute_result"
    }
   ],
   "source": [
    "#Código para cargar el Dataset\n",
    "url = 'https://raw.githubusercontent.com/EstefaniaAracena/MasterUnir/main/yeast%20(2).csv'\n",
    "data=pd.read_csv(url)\n",
    "data.head(5)\n"
   ]
  },
  {
   "cell_type": "markdown",
   "id": "c251c248",
   "metadata": {},
   "source": [
    "## Descripción de la fuente del Dataset"
   ]
  },
  {
   "cell_type": "markdown",
   "id": "53452ea7",
   "metadata": {},
   "source": [
    "El data set se obtuvo de \"Kaggle\" y tiene por nombre: \"yeast.csv\". \n",
    "\n",
    "Link: https://www.kaggle.com/datasets/samanemami/yeastcsv\n",
    "\n",
    "Kaggle es una plataforma en donde podemos encontrar bases de datos (públicos) para análisis y aprendizaje automático. \n",
    "\n",
    "El dataset se descargó en formao .csv y luego se publicó en un repositorio propio (https://github.com/EstefaniaAracena/MasterUnir/blob/main/yeast%20(2).csv) para hacer la carga de datos a este notebook de forma rápida y sencilla)."
   ]
  },
  {
   "cell_type": "markdown",
   "id": "7f868eab",
   "metadata": {},
   "source": [
    "## Explique el problema a resolver. "
   ]
  },
  {
   "cell_type": "markdown",
   "id": "cec3ef4e",
   "metadata": {},
   "source": [
    "Los modelos que se presentarán a continuación tienen como objetivo predecir en que lugar de la célula se encuentra una determinada proteína. La columna \"name\" corresponde al nombre de la secuencia de la proteína que se quiere predecir a partir de los distintos valores de señales obtenidos por distintas técnicas de secuenciación y análisis proteico. \n",
    "\n",
    "Para esto se comparán 3 modelos y se espera concluir cual entrega la mejor predicción. Los modelos serán: \n",
    "- modelo 1: construcción de una red neuronal (NR)\n",
    "- modelo 2: random forest (RF)\n",
    "- modelo 3: clasificación con máquina de vectores lineal (SVC - lineal )"
   ]
  },
  {
   "cell_type": "markdown",
   "id": "a0b719c1",
   "metadata": {},
   "source": [
    "## Caracterización del Dataset\n",
    "\n",
    "Realice una descripción de los datos con:\n",
    "\n",
    ">- Número de instancias en total.\n",
    ">- Número de atributos de entrada, su significado y tipo.\n",
    ">- Número de clases de la variable objetivo, indicando que representan dichas clases y el tipo de valor que toman.\n",
    ">- Número de instancias pertenecientes a cada clase en la variable objetivo.\n",
    ">- Estadísticas de la variable objetivo.\n",
    ">- Estadísticas los atributos en relación con la variable objetivo.\n",
    "\n",
    "Se incorporá una pequeña descripción (EDA) del conjunto de datos utilizado. Se analiza el dataset proporcionando, se muestra al menos algunas de sus características mediante tablas y al menos algunas de ellas en modo gráfico (p.ej., histogramas, diagramas de dispersión, diagramas de cajas y bigotes, etc.)\n"
   ]
  },
  {
   "cell_type": "code",
   "execution_count": 3,
   "id": "f1f264ed",
   "metadata": {},
   "outputs": [
    {
     "name": "stdout",
     "output_type": "stream",
     "text": [
      "Número de instancias en total:\n",
      "(1394, 9)\n",
      "El dataset cuenta con 1394 filas y 9 columnas de atributos, en donde la coumna 'name' corresponde a la variable objetivo.\n"
     ]
    }
   ],
   "source": [
    "print('Número de instancias en total:')\n",
    "print(data.shape) #entrega número de columnas y de filas\n",
    "print(\"El dataset cuenta con 1394 filas y 9 columnas de atributos, en donde la coumna 'name' corresponde a la variable objetivo.\")"
   ]
  },
  {
   "cell_type": "code",
   "execution_count": 4,
   "id": "d3c0e7f7",
   "metadata": {},
   "outputs": [
    {
     "name": "stdout",
     "output_type": "stream",
     "text": [
      "Número de atributos de entrada, su significado y tipo:\n",
      "<class 'pandas.core.frame.DataFrame'>\n",
      "RangeIndex: 1394 entries, 0 to 1393\n",
      "Data columns (total 9 columns):\n",
      " #   Column  Non-Null Count  Dtype  \n",
      "---  ------  --------------  -----  \n",
      " 0   mcg     1394 non-null   float64\n",
      " 1   gvh     1394 non-null   float64\n",
      " 2   alm     1394 non-null   float64\n",
      " 3   mit     1394 non-null   float64\n",
      " 4   erl     1394 non-null   float64\n",
      " 5   pox     1394 non-null   float64\n",
      " 6   vac     1394 non-null   float64\n",
      " 7   nuc     1394 non-null   float64\n",
      " 8   name    1394 non-null   object \n",
      "dtypes: float64(8), object(1)\n",
      "memory usage: 98.1+ KB\n",
      "None\n",
      "Las variables mcg, gvh, alm, mit, erl, pox, vac, nuc son de tipo numérico y name de tipo categórico, no hay celdas vacías\n"
     ]
    }
   ],
   "source": [
    "print('Número de atributos de entrada, su significado y tipo:')\n",
    "print(data.info()) #entrega un resumen de la tabla, cuantas instancias y de que tipo\n",
    "print(\"Las variables mcg, gvh, alm, mit, erl, pox, vac, nuc son de tipo numérico y name de tipo categórico, no hay celdas vacías\")"
   ]
  },
  {
   "cell_type": "code",
   "execution_count": 5,
   "id": "2f0ed5d2",
   "metadata": {},
   "outputs": [
    {
     "name": "stdout",
     "output_type": "stream",
     "text": [
      "Número de clases de la variable objetivo, indicando que representan dichas clases y el tipo de valor que toman:\n",
      "name\n",
      "CYT    463\n",
      "ME1     44\n",
      "ME2     51\n",
      "ME3    163\n",
      "MIT    244\n",
      "NUC    429\n",
      "dtype: int64\n",
      "La clase tiene 6 categorias: CYT, ME1, ME2, ME3, MIT, NUC.\n"
     ]
    }
   ],
   "source": [
    "#Código que responde a la descripción anterior\n",
    "print('Número de clases de la variable objetivo, indicando que representan dichas clases y el tipo de valor que toman:')\n",
    "print(data.groupby('name').size()) #entrega la frecuencia de cada clase\n",
    "print(\"La clase tiene 6 categorias: CYT, ME1, ME2, ME3, MIT, NUC.\") "
   ]
  },
  {
   "cell_type": "code",
   "execution_count": 6,
   "id": "3393b2f0",
   "metadata": {},
   "outputs": [
    {
     "name": "stdout",
     "output_type": "stream",
     "text": [
      "Número de instancias pertenecientes a cada clase:\n"
     ]
    },
    {
     "data": {
      "text/html": [
       "<div>\n",
       "<style scoped>\n",
       "    .dataframe tbody tr th:only-of-type {\n",
       "        vertical-align: middle;\n",
       "    }\n",
       "\n",
       "    .dataframe tbody tr th {\n",
       "        vertical-align: top;\n",
       "    }\n",
       "\n",
       "    .dataframe thead th {\n",
       "        text-align: right;\n",
       "    }\n",
       "</style>\n",
       "<table border=\"1\" class=\"dataframe\">\n",
       "  <thead>\n",
       "    <tr style=\"text-align: right;\">\n",
       "      <th></th>\n",
       "      <th>mcg</th>\n",
       "      <th>gvh</th>\n",
       "      <th>alm</th>\n",
       "      <th>mit</th>\n",
       "      <th>erl</th>\n",
       "      <th>pox</th>\n",
       "      <th>vac</th>\n",
       "      <th>nuc</th>\n",
       "    </tr>\n",
       "  </thead>\n",
       "  <tbody>\n",
       "    <tr>\n",
       "      <th>count</th>\n",
       "      <td>1394.000000</td>\n",
       "      <td>1394.000000</td>\n",
       "      <td>1394.000000</td>\n",
       "      <td>1394.000000</td>\n",
       "      <td>1394.000000</td>\n",
       "      <td>1394.000000</td>\n",
       "      <td>1394.000000</td>\n",
       "      <td>1394.000000</td>\n",
       "    </tr>\n",
       "    <tr>\n",
       "      <th>mean</th>\n",
       "      <td>0.491844</td>\n",
       "      <td>0.492834</td>\n",
       "      <td>0.500940</td>\n",
       "      <td>0.261636</td>\n",
       "      <td>0.502367</td>\n",
       "      <td>0.001549</td>\n",
       "      <td>0.500244</td>\n",
       "      <td>0.278709</td>\n",
       "    </tr>\n",
       "    <tr>\n",
       "      <th>std</th>\n",
       "      <td>0.131456</td>\n",
       "      <td>0.118113</td>\n",
       "      <td>0.087512</td>\n",
       "      <td>0.139272</td>\n",
       "      <td>0.033057</td>\n",
       "      <td>0.034149</td>\n",
       "      <td>0.057374</td>\n",
       "      <td>0.108925</td>\n",
       "    </tr>\n",
       "    <tr>\n",
       "      <th>min</th>\n",
       "      <td>0.110000</td>\n",
       "      <td>0.130000</td>\n",
       "      <td>0.210000</td>\n",
       "      <td>0.000000</td>\n",
       "      <td>0.500000</td>\n",
       "      <td>0.000000</td>\n",
       "      <td>0.000000</td>\n",
       "      <td>0.000000</td>\n",
       "    </tr>\n",
       "    <tr>\n",
       "      <th>25%</th>\n",
       "      <td>0.400000</td>\n",
       "      <td>0.420000</td>\n",
       "      <td>0.460000</td>\n",
       "      <td>0.170000</td>\n",
       "      <td>0.500000</td>\n",
       "      <td>0.000000</td>\n",
       "      <td>0.480000</td>\n",
       "      <td>0.220000</td>\n",
       "    </tr>\n",
       "    <tr>\n",
       "      <th>50%</th>\n",
       "      <td>0.480000</td>\n",
       "      <td>0.480000</td>\n",
       "      <td>0.510000</td>\n",
       "      <td>0.220000</td>\n",
       "      <td>0.500000</td>\n",
       "      <td>0.000000</td>\n",
       "      <td>0.510000</td>\n",
       "      <td>0.220000</td>\n",
       "    </tr>\n",
       "    <tr>\n",
       "      <th>75%</th>\n",
       "      <td>0.570000</td>\n",
       "      <td>0.560000</td>\n",
       "      <td>0.560000</td>\n",
       "      <td>0.320000</td>\n",
       "      <td>0.500000</td>\n",
       "      <td>0.000000</td>\n",
       "      <td>0.530000</td>\n",
       "      <td>0.310000</td>\n",
       "    </tr>\n",
       "    <tr>\n",
       "      <th>max</th>\n",
       "      <td>1.000000</td>\n",
       "      <td>1.000000</td>\n",
       "      <td>1.000000</td>\n",
       "      <td>1.000000</td>\n",
       "      <td>1.000000</td>\n",
       "      <td>0.830000</td>\n",
       "      <td>0.730000</td>\n",
       "      <td>1.000000</td>\n",
       "    </tr>\n",
       "  </tbody>\n",
       "</table>\n",
       "</div>"
      ],
      "text/plain": [
       "               mcg          gvh          alm          mit          erl  \\\n",
       "count  1394.000000  1394.000000  1394.000000  1394.000000  1394.000000   \n",
       "mean      0.491844     0.492834     0.500940     0.261636     0.502367   \n",
       "std       0.131456     0.118113     0.087512     0.139272     0.033057   \n",
       "min       0.110000     0.130000     0.210000     0.000000     0.500000   \n",
       "25%       0.400000     0.420000     0.460000     0.170000     0.500000   \n",
       "50%       0.480000     0.480000     0.510000     0.220000     0.500000   \n",
       "75%       0.570000     0.560000     0.560000     0.320000     0.500000   \n",
       "max       1.000000     1.000000     1.000000     1.000000     1.000000   \n",
       "\n",
       "               pox          vac          nuc  \n",
       "count  1394.000000  1394.000000  1394.000000  \n",
       "mean      0.001549     0.500244     0.278709  \n",
       "std       0.034149     0.057374     0.108925  \n",
       "min       0.000000     0.000000     0.000000  \n",
       "25%       0.000000     0.480000     0.220000  \n",
       "50%       0.000000     0.510000     0.220000  \n",
       "75%       0.000000     0.530000     0.310000  \n",
       "max       0.830000     0.730000     1.000000  "
      ]
     },
     "execution_count": 6,
     "metadata": {},
     "output_type": "execute_result"
    }
   ],
   "source": [
    "print('Número de instancias pertenecientes a cada clase:')\n",
    "data.describe() #entrega un resumen de la tabla, cuantas instancias por cada clase y frecuencia más alta"
   ]
  },
  {
   "cell_type": "code",
   "execution_count": 7,
   "id": "f225f980",
   "metadata": {},
   "outputs": [
    {
     "name": "stdout",
     "output_type": "stream",
     "text": [
      "Estadisticas de la variable objetivo:\n"
     ]
    },
    {
     "data": {
      "text/plain": [
       "count     1394\n",
       "unique       6\n",
       "top        CYT\n",
       "freq       463\n",
       "Name: name, dtype: object"
      ]
     },
     "execution_count": 7,
     "metadata": {},
     "output_type": "execute_result"
    }
   ],
   "source": [
    "print('Estadisticas de la variable objetivo:')\n",
    "data['name'].describe()"
   ]
  },
  {
   "cell_type": "code",
   "execution_count": 8,
   "id": "3dcdf8b5",
   "metadata": {},
   "outputs": [
    {
     "data": {
      "image/png": "[encoded data removed]",
      "text/plain": [
       "<Figure size 200x200 with 1 Axes>"
      ]
     },
     "metadata": {},
     "output_type": "display_data"
    }
   ],
   "source": [
    "plt.figure(figsize=(2,2))\n",
    "data['name'].hist().set_title(\"Histograma Clase\")\n",
    "plt.savefig('hist-clase.png')\n",
    "plt.show()"
   ]
  },
  {
   "cell_type": "code",
   "execution_count": 9,
   "id": "29e03980",
   "metadata": {},
   "outputs": [
    {
     "data": {
      "image/png": "[encoded data removed]",
      "text/plain": [
       "<Figure size 640x480 with 8 Axes>"
      ]
     },
     "metadata": {},
     "output_type": "display_data"
    }
   ],
   "source": [
    "fig, axes = plt.subplots(nrows=2, ncols=4)\n",
    "plt.subplots_adjust(wspace=1, hspace=0.5)\n",
    "data['mcg'].hist(ax=axes[0,0]).set_title(\"mcg\")\n",
    "data['gvh'].hist(ax=axes[0,1]).set_title(\"gvh\")\n",
    "data['alm'].hist(ax=axes[0,2]).set_title(\"alm\")\n",
    "data['mit'].hist(ax=axes[0,3]).set_title(\"mit\")\n",
    "data['erl'].hist(ax=axes[1,3]).set_title(\"erl\")\n",
    "data['pox'].hist(ax=axes[1,0]).set_title(\"pox\")\n",
    "data['vac'].hist(ax=axes[1,1]).set_title(\"vac\")\n",
    "data['nuc'].hist(ax=axes[1,2]).set_title(\"nuc\")\n",
    "plt.savefig('hist-atributos.png')\n",
    "plt.show()"
   ]
  },
  {
   "cell_type": "code",
   "execution_count": 10,
   "id": "a778ee9f",
   "metadata": {},
   "outputs": [
    {
     "data": {
      "text/plain": [
       "(1394, 9)"
      ]
     },
     "execution_count": 10,
     "metadata": {},
     "output_type": "execute_result"
    }
   ],
   "source": [
    "data.shape"
   ]
  },
  {
   "cell_type": "markdown",
   "id": "a7ab5e48",
   "metadata": {},
   "source": [
    "Para este set de datos, se reconocen 9 atributos, 8 de ellos serán utilizados como entradas ('mcg', 'gvh', 'alm', 'mit', 'erl', 'pox', 'vac', 'nuc') y 1 atributo es el objetivo (name). Cada atributo cuenta con 1394 instancias.\n",
    "    \n",
    "Los atributos de entrada son de tipo numérico y la clase es de tipo categórico, con 6 categorías: CYT, ME1, ME2, ME3, MIT, NUC.  No hay celdas vacías, sin embargo la clase es poco balanceada, como se observa en el histograma para la clase. "
   ]
  },
  {
   "cell_type": "markdown",
   "id": "ece5beca",
   "metadata": {
    "ExecuteTime": {
     "end_time": "2022-03-14T15:52:20.156185Z",
     "start_time": "2022-03-14T15:52:20.150187Z"
    }
   },
   "source": [
    "## Preprocesamiento del dataset. Transformaciones previas necesarias para la modelación"
   ]
  },
  {
   "cell_type": "code",
   "execution_count": 11,
   "id": "85c9ad88",
   "metadata": {},
   "outputs": [],
   "source": [
    "#Código que realice las transformaciones necesarias para poder realizar los procesos de modelación. Ej.One hot enconding\n",
    "data_encoder=pd.get_dummies(data)"
   ]
  },
  {
   "cell_type": "markdown",
   "id": "49815fde",
   "metadata": {
    "ExecuteTime": {
     "end_time": "2022-03-14T15:56:34.366469Z",
     "start_time": "2022-03-14T15:56:34.358471Z"
    }
   },
   "source": [
    "## División del dataset en datos de entrenamiento y datos de test "
   ]
  },
  {
   "cell_type": "code",
   "execution_count": 12,
   "id": "2a6286fb",
   "metadata": {},
   "outputs": [],
   "source": [
    "#Código que realice la división en entrenamiento y test, de acuerdo con la estretgia de evaluación planeada. Describa cuál es.\n",
    "X = data_encoder[data_encoder.columns[:-6]] #atributos\n",
    "y=data['name'] #clase categórica \n",
    "x_train, x_test, y_train, y_test = train_test_split(X, y, test_size=0.30, random_state=1, shuffle=True) #división set de datos \n",
    "y_train_encoded=pd.get_dummies(y_train) #transformación de clase datos de entrenamiento\n",
    "y_test_encoded=pd.get_dummies(y_test) #transformación de clase datos de prueba\n",
    "n=y_train_encoded.shape[1] #número de categorías de la clase "
   ]
  },
  {
   "cell_type": "markdown",
   "id": "8b189911",
   "metadata": {},
   "source": [
    "## Propuesta de arquitectura de red neuronal"
   ]
  },
  {
   "cell_type": "markdown",
   "id": "f54e4b8d",
   "metadata": {},
   "source": [
    "+ las neuronas en la capa de entrada: la capa de entrada tendrá 110 neuronas\n",
    "+ las capas intermedias: hay 3 capas intermedias, una capa con 110 neuronas y 2 capas con 55 neuronas. También se utilizan capas \"dropout\" para estabilizar y asegurar la convergencia del modelo, estas se ubican luego de cada capa de 128 neuronas. \n",
    "+ capa de salida: la capa de salida tiene 6 neuronas ya que tenemos 6 categorias en la clase\n",
    "+ funciones de activación: para la capa de entrada y primera capa escondida se utiliza la función de activación \"relu\", para las siguientes dos capas escondidas se utiliza \"elu\" y para la capa de salida \"softmax\"\n",
    "+ además, se utilizan una función para la activación del kernel que ayuda a que el entrenamiento se realice en menos tiempo: kernel_initializer=\"he_uniform para las capas de entrada y escondidas y kernel_initializer=\"glorot_uniform\" para la capa de salida\"\n",
    "\n",
    "#### Se definieron estos parámetros luego de múltiples pruebas"
   ]
  },
  {
   "cell_type": "code",
   "execution_count": 13,
   "id": "2eaa0e96",
   "metadata": {},
   "outputs": [],
   "source": [
    "# Código de la estructuración de la red\n",
    "modelo1 = keras.Sequential([\n",
    "    layers.Dense(110, activation='relu', use_bias=True, kernel_initializer=\"he_normal\", input_shape=[x_train.shape[1]]),\n",
    "    layers.Dropout(0.3),\n",
    "    layers.Dense(110, activation='relu', use_bias=True, kernel_initializer=\"he_normal\"),\n",
    "    layers.Dropout(0.3),\n",
    "    layers.Dense(55, activation='elu', use_bias=True, kernel_initializer=\"he_normal\"),\n",
    "    layers.Dense(55, activation='elu', use_bias=True, kernel_initializer=\"he_normal\"),\n",
    "    layers.Dense(6, activation='softmax', kernel_initializer=\"glorot_uniform\")])\n",
    "\n",
    "modelo1.compile(loss='categorical_crossentropy', \n",
    "                optimizer='adam', \n",
    "                metrics=['accuracy', 'AUC', 'Precision'] )"
   ]
  },
  {
   "cell_type": "code",
   "execution_count": 14,
   "id": "587d6fed",
   "metadata": {},
   "outputs": [
    {
     "name": "stdout",
     "output_type": "stream",
     "text": [
      "Model: \"sequential\"\n",
      "_________________________________________________________________\n",
      " Layer (type)                Output Shape              Param #   \n",
      "=================================================================\n",
      " dense (Dense)               (None, 110)               990       \n",
      "                                                                 \n",
      " dropout (Dropout)           (None, 110)               0         \n",
      "                                                                 \n",
      " dense_1 (Dense)             (None, 110)               12210     \n",
      "                                                                 \n",
      " dropout_1 (Dropout)         (None, 110)               0         \n",
      "                                                                 \n",
      " dense_2 (Dense)             (None, 55)                6105      \n",
      "                                                                 \n",
      " dense_3 (Dense)             (None, 55)                3080      \n",
      "                                                                 \n",
      " dense_4 (Dense)             (None, 6)                 336       \n",
      "                                                                 \n",
      "=================================================================\n",
      "Total params: 22,721\n",
      "Trainable params: 22,721\n",
      "Non-trainable params: 0\n",
      "_________________________________________________________________\n"
     ]
    }
   ],
   "source": [
    "#Código de la inspección del modelo de red\n",
    "modelo1.summary()"
   ]
  },
  {
   "cell_type": "markdown",
   "id": "635384f7",
   "metadata": {},
   "source": [
    "##  Ajuste de modelo de Clasificación RNA"
   ]
  },
  {
   "cell_type": "markdown",
   "id": "1c9c3f6c",
   "metadata": {},
   "source": [
    "Mediante Python y utilizando al menos Keras sobre TensorFlow 2.0 (tensorflow.keras), entrena el modelo o modelos de red neuronal escogidos."
   ]
  },
  {
   "cell_type": "code",
   "execution_count": 15,
   "id": "44ce37ec",
   "metadata": {},
   "outputs": [
    {
     "name": "stdout",
     "output_type": "stream",
     "text": [
      "\n",
      "....................................................................................................\n",
      "....................................................................................................\n",
      "....................................................................................................\n",
      "....................................................................................................\n",
      "....................................................................................................\n",
      "....................................................................................................\n",
      "....................................................................................................\n",
      "....................................................................................................\n",
      "....................................................................................................\n",
      "...................................................................................................."
     ]
    }
   ],
   "source": [
    "#Código de ajuste y entrenamiento\n",
    "#Código de ajuste y entrenamiento\n",
    "tf.data.experimental.enable_debug_mode()\n",
    "class PrintDot(keras.callbacks.Callback):\n",
    "    def on_epoch_end(self, epoch, logs):\n",
    "        if epoch % 100 == 0: print('')\n",
    "        print('.', end='')\n",
    "\n",
    "EPOCHS = 1000\n",
    "history = modelo1.fit(x_train, y_train_encoded, epochs=EPOCHS, validation_data=(x_test, y_test_encoded), verbose=0, callbacks=[PrintDot()])"
   ]
  },
  {
   "cell_type": "markdown",
   "id": "aa4b8461",
   "metadata": {},
   "source": [
    "## Evaluación de modelo RNA\n",
    "\n",
    "Defina las estadísticas (métricas) de evaluación, y dividiendo el dataset en datos de entrenamiento, validación y datos de test prueba tu propuesta.\n"
   ]
  },
  {
   "cell_type": "markdown",
   "id": "5a2831ee",
   "metadata": {},
   "source": [
    "### Visualice el progreso de entrenamiento del modelo y muestre las estadísticas de evaluación para los conjuntos de entrenamiento y validación.  "
   ]
  },
  {
   "cell_type": "code",
   "execution_count": 16,
   "id": "9d424c95",
   "metadata": {},
   "outputs": [
    {
     "name": "stdout",
     "output_type": "stream",
     "text": [
      "31/31 [==============================] - 0s 4ms/step - loss: 0.3363 - accuracy: 0.8687 - auc: 0.9895 - precision: 0.8885\n",
      "31/31 [==============================] - 0s 3ms/step - loss: 0.3363 - accuracy: 0.8687 - auc: 0.9895 - precision: 0.8885\n"
     ]
    }
   ],
   "source": [
    "#Código de evaluación de la red propuesta (entrenamiento y validación)\n",
    "modelo1_evaluacion_train=modelo1.evaluate(x_train, y_train_encoded)[1]\n",
    "precision_evaluacion_train=modelo1.evaluate(x_train, y_train_encoded)[3] #precision datos prueba"
   ]
  },
  {
   "cell_type": "code",
   "execution_count": 17,
   "id": "93f8df44",
   "metadata": {},
   "outputs": [
    {
     "data": {
      "image/png": "[encoded data removed]",
      "text/plain": [
       "<Figure size 400x400 with 1 Axes>"
      ]
     },
     "metadata": {},
     "output_type": "display_data"
    }
   ],
   "source": [
    "resumen1=pd.DataFrame(history.history)\n",
    "plt.figure(figsize=[4,4])\n",
    "plt.plot(resumen1['loss'], label='loss')\n",
    "plt.plot(resumen1['accuracy'], label='accuracy')\n",
    "plt.grid(True)\n",
    "plt.gca().set_ylim(0,2)\n",
    "plt.legend()\n",
    "plt.show()"
   ]
  },
  {
   "cell_type": "markdown",
   "id": "208f9690",
   "metadata": {},
   "source": [
    "#### 1500 épocas se utlizaron para el entrenamiento del modelo, un número a menor a 1500 no asegura convergencia. "
   ]
  },
  {
   "cell_type": "markdown",
   "id": "c4646184",
   "metadata": {},
   "source": [
    "### Evalúe los resultados  para el conjunto de test."
   ]
  },
  {
   "cell_type": "code",
   "execution_count": 18,
   "id": "fc60e202",
   "metadata": {
    "ExecuteTime": {
     "end_time": "2022-04-25T07:15:41.472314Z",
     "start_time": "2022-04-25T07:15:41.465313Z"
    }
   },
   "outputs": [
    {
     "name": "stdout",
     "output_type": "stream",
     "text": [
      "14/14 [==============================] - 0s 4ms/step - loss: 1.5687 - accuracy: 0.6205 - auc: 0.8880 - precision: 0.6513\n",
      "14/14 [==============================] - 0s 4ms/step - loss: 1.5687 - accuracy: 0.6205 - auc: 0.8880 - precision: 0.6513\n"
     ]
    }
   ],
   "source": [
    "#Código de evaluación de la red propuesta (evaluación conjunto de test)\n",
    "modelo1_evaluacion_test=modelo1.evaluate(x_test, y_test_encoded)[1] #exactitud datos test\n",
    "precision_evaluacion_test=modelo1.evaluate(x_test, y_test_encoded)[3] #precision datos test"
   ]
  },
  {
   "cell_type": "code",
   "execution_count": 19,
   "id": "5ae5705c",
   "metadata": {
    "scrolled": false
   },
   "outputs": [
    {
     "name": "stdout",
     "output_type": "stream",
     "text": [
      "14/14 [==============================] - 0s 3ms/step\n",
      "14/14 [==============================] - 0s 3ms/step\n",
      "TP Rate Modelo 1:  [0.007 0.071 0.    0.019 0.014 0.008]\n",
      "FP Rate Modelo 1:  [0.004 0.    0.002 0.    0.    0.   ]\n",
      "Matriz de confusión modelo 1: \n",
      "[[83  0  1  2 14 42]\n",
      " [ 0 10  2  1  1  0]\n",
      " [ 3  1  7  3  1  2]\n",
      " [ 2  0  1 44  0  5]\n",
      " [19  1  1  5 38  7]\n",
      " [35  0  1  1  8 78]]\n"
     ]
    }
   ],
   "source": [
    "#Código para mostrar la evaluación de los modelos para el conjunto de prueba\n",
    "#modelo 1\n",
    "predicciones=modelo1.predict(x_test) \n",
    "predicciones=np.argmax(predicciones, axis=1)\n",
    "reales=np.argmax(y_test_encoded.values, axis=1)\n",
    "matriz1 = confusion_matrix(reales, predicciones) #matriz de confusión datos test\n",
    "\n",
    "M1=modelo1.predict(x_test)\n",
    "suma1=0 #calculo de instancias clasificadas correctamente\n",
    "for i in range(n):\n",
    "    suma1 += matriz1[i,i]\n",
    "\n",
    "#cálculo de FP rate, TP rate, curva ROC y área bajo la curva\n",
    "fpr1, tpr1, roc_auc1 = dict(), dict(), dict()\n",
    "for i in range(n):\n",
    "    fpr1[i], tpr1[i], threshold = roc_curve(y_test_encoded.values[:, i], M1[:, i])\n",
    "    #roc_auc2[i] = auc(fpr2[i], tpr1[i])\n",
    "\n",
    "tprM1=np.zeros(n)\n",
    "for i in range(n):     \n",
    "     tprM1[i]=tpr1[i][1].round(3)\n",
    "print(\"TP Rate Modelo 1: \", tprM1)    \n",
    "\n",
    "fprM1=np.zeros(n)\n",
    "for i in range(n):     \n",
    "     fprM1[i]=fpr1[i][1].round(3)\n",
    "print(\"FP Rate Modelo 1: \", fprM1)\n",
    "\n",
    "print(\"Matriz de confusión modelo 1: \")\n",
    "print(matriz1)\n",
    "\n",
    "fpr1['micro'], tpr1['micro'], _ = roc_curve(y_test_encoded.values.ravel(), M1.ravel())\n",
    "roc_auc1['micro'] = auc(fpr1['micro'], tpr1['micro'])"
   ]
  },
  {
   "cell_type": "markdown",
   "id": "99feaa39",
   "metadata": {},
   "source": [
    "## Ajuste de modelos de clasificación alternativos"
   ]
  },
  {
   "cell_type": "markdown",
   "id": "d552bc64",
   "metadata": {},
   "source": [
    "Elige al menos un método de clasificación no basado en redes neuronales (p.ej. regresión logística, árboles de decisión, reglas de clasificación, random forest, SVM, etc)."
   ]
  },
  {
   "cell_type": "code",
   "execution_count": 20,
   "id": "d5d2b2c6",
   "metadata": {},
   "outputs": [],
   "source": [
    "#Código de ajuste del modelo 1\n",
    "modelo2=RandomForestClassifier(n_estimators=250, max_depth=9) #random forest con 250 árboles y un máximo de 9 nodos \n",
    "modelo2.fit(x_train, y_train) #entrenamiento del modelo \n",
    "modelo2_predicciones_train = modelo2.predict(x_train) #predicciones set de entrenamiento\n",
    "modelo2_predicciones_test = modelo2.predict(x_test) #predicciones set de prueba"
   ]
  },
  {
   "cell_type": "code",
   "execution_count": 21,
   "id": "33f5be2a",
   "metadata": {
    "ExecuteTime": {
     "end_time": "2022-04-25T07:21:39.020596Z",
     "start_time": "2022-04-25T07:21:39.005596Z"
    }
   },
   "outputs": [],
   "source": [
    "#Código de ajuste del modelo 2\n",
    "modelo3=SVC(kernel = 'poly', C = 4, degree=3, tol=1e-4, random_state = 1) #SVC polinómico de grado 3\n",
    "modelo3.fit(x_train, y_train) #entrenamiento del modelo \n",
    "modelo3_predicciones_train = modelo3.predict(x_train) #predicciones set de entrenamiento\n",
    "modelo3_predicciones_test = modelo3.predict(x_test) #predicciones set de prueba"
   ]
  },
  {
   "cell_type": "code",
   "execution_count": 22,
   "id": "a2e675b3",
   "metadata": {},
   "outputs": [
    {
     "name": "stdout",
     "output_type": "stream",
     "text": [
      "Precision set de entrenamiento (%):  83.59\n",
      "Precision set de entrenamiento (%):  63.961999999999996\n",
      "Exactitud -train (%):  83.59\n",
      "Exactitud -test (%):  63.961999999999996\n",
      "Validación cruzada modelo 2:  [0.64285714 0.61904762 0.64285714 0.67857143 0.55421687]\n",
      "TP Rate Modelo 2:  [0.634 0.929 0.412 0.885 0.606 0.561]\n",
      "FP Rate Modelo 2:  [0.235 0.005 0.002 0.041 0.063 0.155]\n",
      "Matriz de confusión modelo 2: \n",
      "[[90  0  0  4 12 36]\n",
      " [ 0 13  1  0  0  0]\n",
      " [ 2  1  7  4  1  2]\n",
      " [ 1  0  0 46  0  5]\n",
      " [19  1  0  5 43  3]\n",
      " [43  0  0  2  9 69]]\n"
     ]
    }
   ],
   "source": [
    "#Código para mostrar la evaluación de los modelos\n",
    "#modelo 2\n",
    "Precision21= modelo2.score(x_train, y_train).round(5)*100 #calcula la precisión de los datos de entrenamiento \n",
    "Precision22= modelo2.score(x_test, y_test).round(5)*100 #calcula la precisión de los datos de prueba \n",
    "exactitud21=accuracy_score(y_train,modelo2_predicciones_train).round(5)*100\n",
    "exactitud22=accuracy_score(y_test,modelo2_predicciones_test).round(5)*100\n",
    "print(\"Precision set de entrenamiento (%): \", Precision21)\n",
    "print(\"Precision set de entrenamiento (%): \", Precision22)\n",
    "print(\"Exactitud -train (%): \", exactitud21)\n",
    "print(\"Exactitud -test (%): \", exactitud22)\n",
    "cros_val2=cross_val_score(modelo2, x_test, y_test) #validación cruzada para modelo 2\n",
    "print(\"Validación cruzada modelo 2: \", cros_val2)\n",
    "matriz2=confusion_matrix(y_test, modelo2_predicciones_test) #matriz de confusión datos test\n",
    "\n",
    "M2=pd.get_dummies(modelo2_predicciones_test).values #transformación predicciones modelo 1\n",
    "suma2=0 #calculo de instancias clasificadas correctamente\n",
    "for i in range(n):\n",
    "    suma2 += matriz2[i,i]\n",
    "\n",
    "#cálculo de FP rate, TP rate, curva ROC y área bajo la curva\n",
    "fpr2, tpr2, roc_auc2 = dict(), dict(), dict()\n",
    "for i in range(n):\n",
    "    fpr2[i], tpr2[i], threshold = roc_curve(y_test_encoded.values[:, i], M2[:, i])\n",
    "    #roc_auc2[i] = auc(fpr2[i], tpr1[i])\n",
    "\n",
    "tprM2=np.zeros(n)\n",
    "for i in range(n):     \n",
    "     tprM2[i]=tpr2[i][1].round(3)\n",
    "print(\"TP Rate Modelo 2: \", tprM2)    \n",
    "\n",
    "fprM2=np.zeros(n)\n",
    "for i in range(n):     \n",
    "     fprM2[i]=fpr2[i][1].round(3)\n",
    "print(\"FP Rate Modelo 2: \", fprM2)\n",
    "\n",
    "print(\"Matriz de confusión modelo 2: \")\n",
    "print(matriz2)\n",
    "\n",
    "fpr2['micro'], tpr2['micro'], _ = roc_curve(y_test_encoded.values.ravel(), M2.ravel())\n",
    "roc_auc2['micro'] = auc(fpr2['micro'], tpr2['micro'])"
   ]
  },
  {
   "cell_type": "code",
   "execution_count": 23,
   "id": "7ef2e768",
   "metadata": {},
   "outputs": [
    {
     "name": "stdout",
     "output_type": "stream",
     "text": [
      "Precision set de entrenamiento (%):  66.359\n",
      "Precision set de entrenamiento (%):  64.2\n",
      "Exactitud -train (%):  66.359\n",
      "Exactitud -test (%):  64.2\n",
      "Validación cruzada modelo 3:  [0.66666667 0.5952381  0.60714286 0.64285714 0.4939759 ]\n",
      "TP Rate Modelo 2:  [0.634 0.929 0.412 0.885 0.606 0.561]\n",
      "FP Rate Modelo 2:  [0.245 0.002 0.01  0.03  0.069 0.142]\n",
      "Matriz de confusión modelo 3: \n",
      "[[90  0  1  2 14 35]\n",
      " [ 0 13  0  1  0  0]\n",
      " [ 3  0  9  3  1  1]\n",
      " [ 1  0  0 46  0  5]\n",
      " [19  1  2  3 45  1]\n",
      " [45  0  1  2  9 66]]\n"
     ]
    }
   ],
   "source": [
    "#Código para mostrar la evaluación de los modelos\n",
    "#modelo 3\n",
    "Precision31= modelo3.score(x_train, y_train).round(5)*100 #calcula la precisión de los datos de entrenamiento \n",
    "Precision32= modelo3.score(x_test, y_test).round(5)*100 #calcula la precisión de los datos de prueba\n",
    "exactitud3=accuracy_score(y_test,modelo3_predicciones_test).round(5)*100\n",
    "exactitud31=accuracy_score(y_train,modelo3_predicciones_train).round(5)*100\n",
    "exactitud32=accuracy_score(y_test,modelo3_predicciones_test).round(5)*100\n",
    "print(\"Precision set de entrenamiento (%): \", Precision31)\n",
    "print(\"Precision set de entrenamiento (%): \", Precision32)\n",
    "print(\"Exactitud -train (%): \", exactitud31)\n",
    "print(\"Exactitud -test (%): \", exactitud32)\n",
    "cros_val3=cross_val_score(modelo3, x_test, y_test) #validación cruzada para modelo 2\n",
    "print(\"Validación cruzada modelo 3: \", cros_val3)\n",
    "matriz3=confusion_matrix(y_test, modelo3_predicciones_test) #matriz de confusión datos test\n",
    "\n",
    "M3=pd.get_dummies(modelo3_predicciones_test).values #transformación predicciones modelo 1\n",
    "suma3=0 #calculo de instancias clasificadas correctamente\n",
    "for i in range(n):\n",
    "    suma3 += matriz3[i,i]\n",
    "\n",
    "#cálculo de FP rate, TP rate, curva ROC y área bajo la curva\n",
    "fpr3, tpr3, roc_auc3 = dict(), dict(), dict()\n",
    "for i in range(n):\n",
    "    fpr3[i], tpr3[i], threshold = roc_curve(y_test_encoded.values[:, i], M3[:, i])\n",
    "    #roc_auc3[i] = auc(fpr2[i], tpr1[i])\n",
    "\n",
    "tprM3=np.zeros(n)\n",
    "for i in range(n):     \n",
    "     tprM3[i]=tpr3[i][1].round(3)\n",
    "print(\"TP Rate Modelo 2: \", tprM2)    \n",
    "\n",
    "fprM3=np.zeros(n)\n",
    "for i in range(n):     \n",
    "     fprM3[i]=fpr3[i][1].round(3)\n",
    "print(\"FP Rate Modelo 2: \", fprM3)\n",
    "\n",
    "print(\"Matriz de confusión modelo 3: \")\n",
    "print(matriz3)\n",
    "\n",
    "fpr3['micro'], tpr3['micro'], _ = roc_curve(y_test_encoded.values.ravel(), M3.ravel())\n",
    "roc_auc3['micro'] = auc(fpr3['micro'], tpr3['micro'])"
   ]
  },
  {
   "cell_type": "markdown",
   "id": "ad219a0c",
   "metadata": {},
   "source": [
    "Construya un o dos párrafos con los principales hallazgos. Incluye una explicación de los parámetros que consideres relevantes en cada ejecución."
   ]
  },
  {
   "cell_type": "markdown",
   "id": "44df4eb5",
   "metadata": {},
   "source": [
    "## Comparación del desempeño de modelos\n",
    "\n",
    "Muestra los resultados obtenidos por los diferentes algoritmos escogidos de forma gráfica y comparada/superpuesta."
   ]
  },
  {
   "cell_type": "code",
   "execution_count": 27,
   "id": "fe4acd93",
   "metadata": {
    "scrolled": true
   },
   "outputs": [
    {
     "name": "stdout",
     "output_type": "stream",
     "text": [
      "+--------------------------------+----------------+-----------------+--------------+\n",
      "| Parámetro                      |   Red Neuronal |   Random Forest |   SVC-lineal |\n",
      "+================================+================+=================+==============+\n",
      "| Exactitud train (%)            |        86.8718 |          83.59  |       66.359 |\n",
      "+--------------------------------+----------------+-----------------+--------------+\n",
      "| Exactitud test (%)             |        62.0525 |          63.962 |       64.2   |\n",
      "+--------------------------------+----------------+-----------------+--------------+\n",
      "| Precisión prueba (%)           |        88.8532 |          83.59  |       66.359 |\n",
      "+--------------------------------+----------------+-----------------+--------------+\n",
      "| Precisión test (%)             |        65.1282 |          63.962 |       64.2   |\n",
      "+--------------------------------+----------------+-----------------+--------------+\n",
      "| Instancias predichas correctas |       260      |         268     |      269     |\n",
      "+--------------------------------+----------------+-----------------+--------------+\n"
     ]
    }
   ],
   "source": [
    "#Código para mostrar la comparación de métricas de desempeño de las tres propuestas en tabla\n",
    "tabla=[[\"Exactitud train (%)\",modelo1_evaluacion_train*100, exactitud21, exactitud31],\n",
    "       [\"Exactitud test (%)\",modelo1_evaluacion_test*100, exactitud22, exactitud32],\n",
    "       [\"Precisión prueba (%)\", precision_evaluacion_train*100, Precision21, Precision31],\n",
    "       [\"Precisión test (%)\", precision_evaluacion_test*100, Precision22, Precision32],\n",
    "       [\"Instancias predichas correctas\", suma1, suma2, suma3]\n",
    "      ]\n",
    "\n",
    "columnas = [\"Parámetro\", \"Red Neuronal\", \"Random Forest\", \"SVC-lineal\"]\n",
    "print(tabulate(tabla, headers=columnas, tablefmt=\"grid\"))"
   ]
  },
  {
   "cell_type": "markdown",
   "id": "f11d5ab4",
   "metadata": {},
   "source": [
    "Construya un párrafo con los principales hallazgos."
   ]
  },
  {
   "cell_type": "code",
   "execution_count": 25,
   "id": "3ba9dca3",
   "metadata": {},
   "outputs": [
    {
     "data": {
      "image/png": "[encoded data removed]",
      "text/plain": [
       "<Figure size 640x480 with 1 Axes>"
      ]
     },
     "metadata": {},
     "output_type": "display_data"
    }
   ],
   "source": [
    "#Código para mostrar la comparación de métricas de desempeño de las tres propuestas en gráfica\n",
    "plt.figure()\n",
    "plt.plot(fpr1['micro'], tpr1['micro'], label='Micro-promedio Curva Roc M1 (area = {0:0.2f})' .format(roc_auc1['micro']), color='blue')\n",
    "plt.plot(fpr2['micro'], tpr2['micro'], label='Micro-promedio Curva Roc M2 (area = {0:0.2f})' .format(roc_auc2['micro']), color='green')\n",
    "plt.plot(fpr3['micro'], tpr3['micro'], label='Micro-promedio Curva Roc M3 (area = {0:0.2f})' .format(roc_auc3['micro']), color='yellow')\n",
    "plt.plot([0, 1], [0, 1], 'k--', label=\"chance level (AUC = 0.5)\")\n",
    "plt.xlim([0.0, 1.05])\n",
    "plt.ylim([0.0, 1.05])\n",
    "plt.grid(True)\n",
    "plt.legend(loc=\"lower right\", fontsize=8)\n",
    "plt.show()"
   ]
  },
  {
   "cell_type": "markdown",
   "id": "f810fb47",
   "metadata": {
    "ExecuteTime": {
     "end_time": "2022-03-14T16:16:57.134093Z",
     "start_time": "2022-03-14T16:16:57.117129Z"
    }
   },
   "source": [
    "## Discusión de los resultados obtenidos y argumentos sobre cómo se podrían mejorar de dichos resultados"
   ]
  },
  {
   "cell_type": "markdown",
   "id": "f1d2fc8c",
   "metadata": {},
   "source": [
    "3 modelos se realizaron y se calcularon distintas métricas para compararlos, la exactitud fue una de ellas. La exactitud de los datos de entrenamiento es de 86%, 83% y 66% para la red neuronal, random forest y SVC respectivamente, y para los datos de prueba es de 62%, 63% y 64%. De estos resultados podemos decir que el modelo que tuvo el rendimiento más bajo es la red neuronal. Si bien la exactitud de los datos de prueba para SVC es la menor, para los datos de prueba es la mejor. Esto podría deberse a un sobreajuste en la modelación, sin embargo, ese porcentaje de exactitud no da cabida a sobreajuste. \n",
    "\n",
    "En cuanto a la exactitud los resultados fueron de 88%, 83% y 66% para los datos de prueba y de 65%, 63% y 64% para los datos de prueba para la red neuronal, RF y SVC respectivamente. En esta métrica, la red neuronal es la que arroja mejores resultados, tanto en entrenamiento como en los valores predichos. \n",
    "\n",
    "Con respecto a la matriz de confusión, SVC es el que tiene más instancias predichas correctas, lo sigue RF y luego la red neuronal. \n",
    "\n",
    "Graficamente, vemos las curvas roc 'micro' promedio para cada modelo, en donde la red neuronal arrojó un buen resultado, acercandose más a 1, mientras que los otros dos modelos tienen resultados similares. \n",
    "\n",
    "Luego de analizar las métricas se concluye que el modelo que entrega las mejores predicciones es la red neuronal, sin embargo, podría ser mejor. \n",
    "\n",
    "Para mejorar los resultados es importante tener una clase balanceada, lo cual no tenemos en este dataset, por ese motivo se usaron estabilizadores como capas \"dropout\" y estabilizadores de kernel, para que el cálculo de los pesos fluyera de forma homogénea hacia adelante y atrás a través de la red neuronal, y de esta forma se lograron mejorar los datos predichos y no sobreajustar el modelo. "
   ]
  },
  {
   "cell_type": "code",
   "execution_count": 26,
   "id": "02ba4f21",
   "metadata": {},
   "outputs": [],
   "source": [
    "#from ann_visualizer.visualize import ann_viz\n",
    "#ann_viz(modelo1, title=\"Red Neuronal Artificial - Clasificación\");"
   ]
  }
 ],
 "metadata": {
  "kernelspec": {
   "display_name": "Python 3 (ipykernel)",
   "language": "python",
   "name": "python3"
  },
  "language_info": {
   "codemirror_mode": {
    "name": "ipython",
    "version": 3
   },
   "file_extension": ".py",
   "mimetype": "text/x-python",
   "name": "python",
   "nbconvert_exporter": "python",
   "pygments_lexer": "ipython3",
   "version": "3.9.13"
  },
  "toc": {
   "base_numbering": 1,
   "nav_menu": {},
   "number_sections": true,
   "sideBar": true,
   "skip_h1_title": true,
   "title_cell": "Tabla de Contenido",
   "title_sidebar": "Contenido",
   "toc_cell": false,
   "toc_position": {
    "height": "calc(100% - 180px)",
    "left": "10px",
    "top": "150px",
    "width": "263.591px"
   },
   "toc_section_display": true,
   "toc_window_display": true
  }
 },
 "nbformat": 4,
 "nbformat_minor": 5
}
