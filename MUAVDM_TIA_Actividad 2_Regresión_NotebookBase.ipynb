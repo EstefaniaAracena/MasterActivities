{
 "cells": [
  {
   "cell_type": "markdown",
   "id": "de1406ba",
   "metadata": {},
   "source": [
    "<img src=\"https://www.unir.net/wp-content/uploads/2019/11/Unir_2021_logo.svg\" width=\"240\" height=\"240\" align=\"right\"/>"
   ]
  },
  {
   "cell_type": "markdown",
   "id": "8b6f603c",
   "metadata": {},
   "source": [
    "<center><h1>Técnicas de Inteligencia Artificial</header1></center>\n",
    "<left><h1>Actividad 2. Trabajando con redes neuronales y Deep Learning</header1></left>"
   ]
  },
  {
   "cell_type": "markdown",
   "id": "3eb1aaac",
   "metadata": {},
   "source": [
    "Presentado por: Estefania Del Pilar Aracena Vallejos  <br>\n",
    "Fecha: 26/05/2023"
   ]
  },
  {
   "cell_type": "markdown",
   "id": "1dec299b",
   "metadata": {
    "ExecuteTime": {
     "end_time": "2022-03-14T15:14:04.930713Z",
     "start_time": "2022-03-14T15:14:04.921682Z"
    }
   },
   "source": [
    "# Importación de librerias necesarias"
   ]
  },
  {
   "cell_type": "markdown",
   "id": "7e71c67f",
   "metadata": {},
   "source": [
    "# Parte I. Regresión"
   ]
  },
  {
   "cell_type": "code",
   "execution_count": 1,
   "id": "6d1abf7a",
   "metadata": {
    "ExecuteTime": {
     "end_time": "2022-03-14T15:14:46.228059Z",
     "start_time": "2022-03-14T15:14:46.223108Z"
    }
   },
   "outputs": [
    {
     "name": "stdout",
     "output_type": "stream",
     "text": [
      "2.12.0\n"
     ]
    }
   ],
   "source": [
    "#Para esta actividad se importarán las siguientes librerías:\n",
    "import pandas as pd\n",
    "import numpy as np\n",
    "from tabulate import tabulate\n",
    "import seaborn as sns\n",
    "import matplotlib.pyplot as plt\n",
    "import tensorflow as tf\n",
    "from tensorflow import keras\n",
    "from tensorflow.keras import layers\n",
    "from sklearn.ensemble import RandomForestRegressor\n",
    "from sklearn.metrics import mean_squared_error, mean_absolute_error\n",
    "from sklearn import svm\n",
    "from sklearn.metrics import accuracy_score\n",
    "import scipy.stats\n",
    "print(tf.__version__)"
   ]
  },
  {
   "cell_type": "markdown",
   "id": "6a44b924",
   "metadata": {},
   "source": [
    "## Cargar el Dataset\n",
    "\n",
    "Con al menos 1000 instancias, una variable/atributo de la salida, y que dependa de, al menos, 6 variables/atributos de entrada. "
   ]
  },
  {
   "cell_type": "code",
   "execution_count": 2,
   "id": "3541e808",
   "metadata": {},
   "outputs": [
    {
     "data": {
      "text/html": [
       "<div>\n",
       "<style scoped>\n",
       "    .dataframe tbody tr th:only-of-type {\n",
       "        vertical-align: middle;\n",
       "    }\n",
       "\n",
       "    .dataframe tbody tr th {\n",
       "        vertical-align: top;\n",
       "    }\n",
       "\n",
       "    .dataframe thead th {\n",
       "        text-align: right;\n",
       "    }\n",
       "</style>\n",
       "<table border=\"1\" class=\"dataframe\">\n",
       "  <thead>\n",
       "    <tr style=\"text-align: right;\">\n",
       "      <th></th>\n",
       "      <th>carat</th>\n",
       "      <th>cut</th>\n",
       "      <th>color</th>\n",
       "      <th>clarity</th>\n",
       "      <th>depth</th>\n",
       "      <th>table</th>\n",
       "      <th>price</th>\n",
       "      <th>x</th>\n",
       "      <th>y</th>\n",
       "      <th>z</th>\n",
       "    </tr>\n",
       "  </thead>\n",
       "  <tbody>\n",
       "    <tr>\n",
       "      <th>0</th>\n",
       "      <td>0.23</td>\n",
       "      <td>Ideal</td>\n",
       "      <td>E</td>\n",
       "      <td>SI2</td>\n",
       "      <td>61.5</td>\n",
       "      <td>55.0</td>\n",
       "      <td>326</td>\n",
       "      <td>3.95</td>\n",
       "      <td>3.98</td>\n",
       "      <td>2.43</td>\n",
       "    </tr>\n",
       "    <tr>\n",
       "      <th>1</th>\n",
       "      <td>0.21</td>\n",
       "      <td>Premium</td>\n",
       "      <td>E</td>\n",
       "      <td>SI1</td>\n",
       "      <td>59.8</td>\n",
       "      <td>61.0</td>\n",
       "      <td>326</td>\n",
       "      <td>3.89</td>\n",
       "      <td>3.84</td>\n",
       "      <td>2.31</td>\n",
       "    </tr>\n",
       "    <tr>\n",
       "      <th>2</th>\n",
       "      <td>0.23</td>\n",
       "      <td>Good</td>\n",
       "      <td>E</td>\n",
       "      <td>VS1</td>\n",
       "      <td>56.9</td>\n",
       "      <td>65.0</td>\n",
       "      <td>327</td>\n",
       "      <td>4.05</td>\n",
       "      <td>4.07</td>\n",
       "      <td>2.31</td>\n",
       "    </tr>\n",
       "    <tr>\n",
       "      <th>3</th>\n",
       "      <td>0.29</td>\n",
       "      <td>Premium</td>\n",
       "      <td>I</td>\n",
       "      <td>VS2</td>\n",
       "      <td>62.4</td>\n",
       "      <td>58.0</td>\n",
       "      <td>334</td>\n",
       "      <td>4.20</td>\n",
       "      <td>4.23</td>\n",
       "      <td>2.63</td>\n",
       "    </tr>\n",
       "    <tr>\n",
       "      <th>4</th>\n",
       "      <td>0.31</td>\n",
       "      <td>Good</td>\n",
       "      <td>J</td>\n",
       "      <td>SI2</td>\n",
       "      <td>63.3</td>\n",
       "      <td>58.0</td>\n",
       "      <td>335</td>\n",
       "      <td>4.34</td>\n",
       "      <td>4.35</td>\n",
       "      <td>2.75</td>\n",
       "    </tr>\n",
       "  </tbody>\n",
       "</table>\n",
       "</div>"
      ],
      "text/plain": [
       "   carat      cut color clarity  depth  table  price     x     y     z\n",
       "0   0.23    Ideal     E     SI2   61.5   55.0    326  3.95  3.98  2.43\n",
       "1   0.21  Premium     E     SI1   59.8   61.0    326  3.89  3.84  2.31\n",
       "2   0.23     Good     E     VS1   56.9   65.0    327  4.05  4.07  2.31\n",
       "3   0.29  Premium     I     VS2   62.4   58.0    334  4.20  4.23  2.63\n",
       "4   0.31     Good     J     SI2   63.3   58.0    335  4.34  4.35  2.75"
      ]
     },
     "execution_count": 2,
     "metadata": {},
     "output_type": "execute_result"
    }
   ],
   "source": [
    "#Código para cargar el Dataset\n",
    "url = 'https://raw.githubusercontent.com/EstefaniaAracena/MasterUnir/main/diamonds.csv'\n",
    "data=pd.read_csv(url, usecols=[1,2,3,4,5,6,7,8,9,10], nrows=2000)\n",
    "data.head(5)"
   ]
  },
  {
   "cell_type": "markdown",
   "id": "93c30410",
   "metadata": {},
   "source": [
    "## Descripción de la fuente del Dataset"
   ]
  },
  {
   "cell_type": "markdown",
   "id": "db6174bc",
   "metadata": {},
   "source": [
    "El data set se obtuvo de \"Kaggle\" y tiene por nombre: \"Data Analysis on Diamonds Dataset\". \n",
    "\n",
    "Link: https://www.kaggle.com/datasets/swatikhedekar/price-prediction-of-diamond\n",
    "\n",
    "Kaggle es una plataforma en donde podemos encontrar bases de datos (públicos) para análisis y aprendizaje automático. \n",
    "\n",
    "El dataset se descargó en formao .csv y luego se publicó en un repositorio propio (https://github.com/EstefaniaAracena/MasterUnir/blob/main/diamonds.csv) para hacer la carga de datos a este notebook de forma rápida y sencilla)."
   ]
  },
  {
   "cell_type": "markdown",
   "id": "7f868eab",
   "metadata": {},
   "source": [
    "## Explique el problema a resolver. "
   ]
  },
  {
   "cell_type": "markdown",
   "id": "8932144d",
   "metadata": {},
   "source": [
    "Lo modelos que se presentarán a continuación tienen como objetivo predecir el precio de un diamante basándose en características como el tipo de corte (cut), color, dimensiones (x,y,z), claridad (clarity), el peso (carat), profundidad (depth) y tabla (table). \n",
    "Para esto se compararán 3 modelos y se espera concluir cual entrega la mejor predicción. Los modelos serán: \n",
    "- modelo 1: construcción de una red neuronal (NR)\n",
    "- modelo 2: random forest regressor (RFR)\n",
    "- modelo 3: regresión con máquina de vectores (SVM - SVR)"
   ]
  },
  {
   "cell_type": "markdown",
   "id": "a0b719c1",
   "metadata": {},
   "source": [
    "## Caracterización del Dataset\n",
    "\n",
    "Realice una descripción de los datos con:\n",
    "\n",
    ">- Número de instancias en total.\n",
    ">- Número de atributos de entrada, su significado y tipo.\n",
    ">- Estadísticas de la variable objetivo.\n",
    ">- Estadísticas los atributos en relación con la variable objetivo.\n",
    "\n",
    "Se incorporá una pequeña descripción (EDA) del conjunto de datos utilizado. Se analiza el dataset proporcionando, se muestra al menos algunas de sus características mediante tablas y al menos algunas de ellas en modo gráfico (p.ej., histogramas, diagramas de dispersión, diagramas de cajas y bigotes, etc.)\n"
   ]
  },
  {
   "cell_type": "code",
   "execution_count": 3,
   "id": "f87bd72c",
   "metadata": {},
   "outputs": [
    {
     "name": "stdout",
     "output_type": "stream",
     "text": [
      "Número de instancias en total:\n",
      "(2000, 10)\n",
      "El dataset cuenta con 2000 filas y 10 columnas de atributos, en donde la coumna 'price' corresponde a la variable objetivo.\n"
     ]
    }
   ],
   "source": [
    "print('Número de instancias en total:')\n",
    "print(data.shape) #entrega número de columnas y de filas\n",
    "print(\"El dataset cuenta con 2000 filas y 10 columnas de atributos, en donde la coumna 'price' corresponde a la variable objetivo.\")"
   ]
  },
  {
   "cell_type": "code",
   "execution_count": 4,
   "id": "bca1e0be",
   "metadata": {},
   "outputs": [
    {
     "name": "stdout",
     "output_type": "stream",
     "text": [
      "Número de atributos de entrada, su significado y tipo:\n",
      "<class 'pandas.core.frame.DataFrame'>\n",
      "RangeIndex: 2000 entries, 0 to 1999\n",
      "Data columns (total 10 columns):\n",
      " #   Column   Non-Null Count  Dtype  \n",
      "---  ------   --------------  -----  \n",
      " 0   carat    2000 non-null   float64\n",
      " 1   cut      2000 non-null   object \n",
      " 2   color    2000 non-null   object \n",
      " 3   clarity  2000 non-null   object \n",
      " 4   depth    2000 non-null   float64\n",
      " 5   table    2000 non-null   float64\n",
      " 6   price    2000 non-null   int64  \n",
      " 7   x        2000 non-null   float64\n",
      " 8   y        2000 non-null   float64\n",
      " 9   z        2000 non-null   float64\n",
      "dtypes: float64(6), int64(1), object(3)\n",
      "memory usage: 156.4+ KB\n",
      "None\n",
      "Las variables 'color', 'clarity' y 'cut' son de tipo categórico, no hay celdas vacías\n"
     ]
    }
   ],
   "source": [
    "print('Número de atributos de entrada, su significado y tipo:')\n",
    "print(data.info()) #entrega un resumen de la tabla, cuantas instancias y de que tipo\n",
    "print(\"Las variables 'color', 'clarity' y 'cut' son de tipo categórico, no hay celdas vacías\")"
   ]
  },
  {
   "cell_type": "code",
   "execution_count": 5,
   "id": "63b4c73e",
   "metadata": {},
   "outputs": [
    {
     "name": "stdout",
     "output_type": "stream",
     "text": [
      "Estadisticas de la variable objetivo:\n"
     ]
    },
    {
     "data": {
      "text/plain": [
       "count    2000.000000\n",
       "mean     2626.338000\n",
       "std       786.994922\n",
       "min       326.000000\n",
       "25%      2804.000000\n",
       "50%      2878.000000\n",
       "75%      2982.000000\n",
       "max      3099.000000\n",
       "Name: price, dtype: float64"
      ]
     },
     "execution_count": 5,
     "metadata": {},
     "output_type": "execute_result"
    }
   ],
   "source": [
    "print('Estadisticas de la variable objetivo:')\n",
    "data['price'].describe()"
   ]
  },
  {
   "cell_type": "code",
   "execution_count": 6,
   "id": "2f0ed5d2",
   "metadata": {},
   "outputs": [
    {
     "name": "stdout",
     "output_type": "stream",
     "text": [
      "Estadisticas de los atributos:\n"
     ]
    },
    {
     "data": {
      "text/html": [
       "<div>\n",
       "<style scoped>\n",
       "    .dataframe tbody tr th:only-of-type {\n",
       "        vertical-align: middle;\n",
       "    }\n",
       "\n",
       "    .dataframe tbody tr th {\n",
       "        vertical-align: top;\n",
       "    }\n",
       "\n",
       "    .dataframe thead th {\n",
       "        text-align: right;\n",
       "    }\n",
       "</style>\n",
       "<table border=\"1\" class=\"dataframe\">\n",
       "  <thead>\n",
       "    <tr style=\"text-align: right;\">\n",
       "      <th></th>\n",
       "      <th>carat</th>\n",
       "      <th>depth</th>\n",
       "      <th>table</th>\n",
       "      <th>price</th>\n",
       "      <th>x</th>\n",
       "      <th>y</th>\n",
       "      <th>z</th>\n",
       "    </tr>\n",
       "  </thead>\n",
       "  <tbody>\n",
       "    <tr>\n",
       "      <th>count</th>\n",
       "      <td>2000.000000</td>\n",
       "      <td>2000.000000</td>\n",
       "      <td>2000.00000</td>\n",
       "      <td>2000.000000</td>\n",
       "      <td>2000.00000</td>\n",
       "      <td>2000.00000</td>\n",
       "      <td>2000.00000</td>\n",
       "    </tr>\n",
       "    <tr>\n",
       "      <th>mean</th>\n",
       "      <td>0.711885</td>\n",
       "      <td>61.783000</td>\n",
       "      <td>57.58960</td>\n",
       "      <td>2626.338000</td>\n",
       "      <td>5.67144</td>\n",
       "      <td>5.67005</td>\n",
       "      <td>3.50339</td>\n",
       "    </tr>\n",
       "    <tr>\n",
       "      <th>std</th>\n",
       "      <td>0.185737</td>\n",
       "      <td>1.644842</td>\n",
       "      <td>2.36414</td>\n",
       "      <td>786.994922</td>\n",
       "      <td>0.57645</td>\n",
       "      <td>0.56495</td>\n",
       "      <td>0.36325</td>\n",
       "    </tr>\n",
       "    <tr>\n",
       "      <th>min</th>\n",
       "      <td>0.200000</td>\n",
       "      <td>53.000000</td>\n",
       "      <td>51.00000</td>\n",
       "      <td>326.000000</td>\n",
       "      <td>3.79000</td>\n",
       "      <td>3.75000</td>\n",
       "      <td>2.27000</td>\n",
       "    </tr>\n",
       "    <tr>\n",
       "      <th>25%</th>\n",
       "      <td>0.700000</td>\n",
       "      <td>61.000000</td>\n",
       "      <td>56.00000</td>\n",
       "      <td>2804.000000</td>\n",
       "      <td>5.66000</td>\n",
       "      <td>5.68000</td>\n",
       "      <td>3.48000</td>\n",
       "    </tr>\n",
       "    <tr>\n",
       "      <th>50%</th>\n",
       "      <td>0.720000</td>\n",
       "      <td>61.800000</td>\n",
       "      <td>57.00000</td>\n",
       "      <td>2878.000000</td>\n",
       "      <td>5.78000</td>\n",
       "      <td>5.79000</td>\n",
       "      <td>3.56000</td>\n",
       "    </tr>\n",
       "    <tr>\n",
       "      <th>75%</th>\n",
       "      <td>0.800000</td>\n",
       "      <td>62.600000</td>\n",
       "      <td>59.00000</td>\n",
       "      <td>2982.000000</td>\n",
       "      <td>5.95000</td>\n",
       "      <td>5.95000</td>\n",
       "      <td>3.67250</td>\n",
       "    </tr>\n",
       "    <tr>\n",
       "      <th>max</th>\n",
       "      <td>1.500000</td>\n",
       "      <td>69.500000</td>\n",
       "      <td>70.00000</td>\n",
       "      <td>3099.000000</td>\n",
       "      <td>7.26000</td>\n",
       "      <td>7.09000</td>\n",
       "      <td>4.70000</td>\n",
       "    </tr>\n",
       "  </tbody>\n",
       "</table>\n",
       "</div>"
      ],
      "text/plain": [
       "             carat        depth       table        price           x  \\\n",
       "count  2000.000000  2000.000000  2000.00000  2000.000000  2000.00000   \n",
       "mean      0.711885    61.783000    57.58960  2626.338000     5.67144   \n",
       "std       0.185737     1.644842     2.36414   786.994922     0.57645   \n",
       "min       0.200000    53.000000    51.00000   326.000000     3.79000   \n",
       "25%       0.700000    61.000000    56.00000  2804.000000     5.66000   \n",
       "50%       0.720000    61.800000    57.00000  2878.000000     5.78000   \n",
       "75%       0.800000    62.600000    59.00000  2982.000000     5.95000   \n",
       "max       1.500000    69.500000    70.00000  3099.000000     7.26000   \n",
       "\n",
       "                y           z  \n",
       "count  2000.00000  2000.00000  \n",
       "mean      5.67005     3.50339  \n",
       "std       0.56495     0.36325  \n",
       "min       3.75000     2.27000  \n",
       "25%       5.68000     3.48000  \n",
       "50%       5.79000     3.56000  \n",
       "75%       5.95000     3.67250  \n",
       "max       7.09000     4.70000  "
      ]
     },
     "execution_count": 6,
     "metadata": {},
     "output_type": "execute_result"
    }
   ],
   "source": [
    "print('Estadisticas de los atributos:')\n",
    "data.describe() #entrega un resumen de la tabla, cuantas instancias por cada clase y frecuencia más alta"
   ]
  },
  {
   "cell_type": "code",
   "execution_count": 7,
   "id": "0c1e2d3d",
   "metadata": {},
   "outputs": [
    {
     "data": {
      "image/png": "[encoded data removed]",
      "text/plain": [
       "<Figure size 640x480 with 10 Axes>"
      ]
     },
     "metadata": {},
     "output_type": "display_data"
    }
   ],
   "source": [
    "fig, axes = plt.subplots(nrows=2, ncols=5)\n",
    "plt.subplots_adjust(wspace=1, hspace=0.5)\n",
    "data['carat'].hist(ax=axes[0,0]).set_title(\"carat\")\n",
    "data['cut'].hist(ax=axes[0,1]).set_title(\"cut\")\n",
    "data['color'].hist(ax=axes[0,2]).set_title(\"color\")\n",
    "data['clarity'].hist(ax=axes[0,3]).set_title(\"clarity\")\n",
    "data['depth'].hist(ax=axes[0,4]).set_title(\"depth\")\n",
    "data['table'].hist(ax=axes[1,0]).set_title(\"table\")\n",
    "data['price'].hist(ax=axes[1,1]).set_title(\"price\")\n",
    "data['x'].hist(ax=axes[1,2]).set_title(\"x\")\n",
    "data['y'].hist(ax=axes[1,3]).set_title(\"y\")\n",
    "data['z'].hist(ax=axes[1,4]).set_title(\"z\")\n",
    "plt.savefig('hist-atributos.png')\n",
    "plt.show()"
   ]
  },
  {
   "cell_type": "markdown",
   "id": "a9b8bfa8",
   "metadata": {},
   "source": [
    "Para este set de datos, se reconocen 10 atributos, 9 de ellos serán utilizados como entradas (carat, cut, color, clarity, depth, table, x, y, z) y 1 atributo es el objetivo (price). Cada atributo cuenta con 5000 instancias.\n",
    "    \n",
    "7 variables son numéricas (carat, depth, table, price x, y, z) y 3 variables son categoricas (cut, color, clarity) no hay celdas vacías o valores atípicos, como se observa en los histogramas para los atributos de entrada."
   ]
  },
  {
   "cell_type": "markdown",
   "id": "ece5beca",
   "metadata": {
    "ExecuteTime": {
     "end_time": "2022-03-14T15:52:20.156185Z",
     "start_time": "2022-03-14T15:52:20.150187Z"
    }
   },
   "source": [
    "## Preprocesamiento del dataset. Transformaciones previas necesarias para la modelación"
   ]
  },
  {
   "cell_type": "code",
   "execution_count": 8,
   "id": "85c9ad88",
   "metadata": {},
   "outputs": [],
   "source": [
    "#Código que realice las transformaciones necesarias para poder realizar los procesos de modelación. Ej.One hot enconding\n",
    "data_encoder=pd.get_dummies(data)"
   ]
  },
  {
   "cell_type": "markdown",
   "id": "49815fde",
   "metadata": {
    "ExecuteTime": {
     "end_time": "2022-03-14T15:56:34.366469Z",
     "start_time": "2022-03-14T15:56:34.358471Z"
    }
   },
   "source": [
    "## División del dataset en datos de entrenamiento y datos de test "
   ]
  },
  {
   "cell_type": "code",
   "execution_count": 9,
   "id": "6f26d21e",
   "metadata": {},
   "outputs": [],
   "source": [
    "#Código que realice la división en entrenamiento y test, de acuerdo con la estretgia de evaluación planeada. Describa cuál es.\n",
    "x_train = data_encoder.sample(frac=0.7,random_state=0)\n",
    "x_test = data_encoder.drop(x_train.index)\n",
    "y_train = x_train.pop(\"price\")\n",
    "y_test = x_test.pop(\"price\")"
   ]
  },
  {
   "cell_type": "markdown",
   "id": "a652d4ba",
   "metadata": {},
   "source": [
    "## Propuesta de arquitectura de red neuronal"
   ]
  },
  {
   "cell_type": "markdown",
   "id": "d4a83252",
   "metadata": {},
   "source": [
    "Describe: \n",
    "\n",
    "+ las neuronas en la capa de entrada: la capa de entrada tendrá 128 neuronas\n",
    "+ las capas intermedias:  hay 3 capas intermedias, una capa con 128 neuronas y 2 capas con 64 neuronas. \n",
    "+ capa de salida: la capa de salida tiene 1 neurona \n",
    "+ funciones de activación: se utiliza para todas las capas la función de activación \"ReLU\". \n",
    "\n",
    "#### Se definieron estos parámetros luego de múltiples pruebas"
   ]
  },
  {
   "cell_type": "code",
   "execution_count": 10,
   "id": "6e37be33",
   "metadata": {},
   "outputs": [],
   "source": [
    "# Código de la estructuración de la red\n",
    "#Se eligieron 128 neuronas en capa de entrada, 3 capas escondidas, 1 con 128 neuronas y 2 capas con 64 reunonas. \n",
    "#La función de activación escogida fue ReLU.\n",
    "#La capa de salida tiene 1 neurona, ya que estamos realizando un moedelo de regresión\n",
    "#Estos parámetros fueron elegidos luego re la realización de múltiples pruebas con distintas funciones de activación, \n",
    "#número de neuronas y capas. \n",
    "modelo1 = keras.Sequential([\n",
    "    layers.Dense(128, activation='relu', use_bias=True, input_shape=x_train.shape[1:]),\n",
    "    layers.Dense(128, activation='relu', use_bias=True),\n",
    "    layers.Dense(64, activation='relu', use_bias=True),\n",
    "    layers.Dense(64, activation='relu', use_bias=True),\n",
    "    layers.Dense(1)\n",
    "])\n",
    "\n",
    "optimizer = tf.keras.optimizers.RMSprop(learning_rate=0.0001)\n",
    "\n",
    "modelo1.compile(loss='mse', optimizer=optimizer, metrics=['mae', 'mse'])"
   ]
  },
  {
   "cell_type": "code",
   "execution_count": 11,
   "id": "59f9f777",
   "metadata": {},
   "outputs": [
    {
     "name": "stdout",
     "output_type": "stream",
     "text": [
      "Model: \"sequential\"\n",
      "_________________________________________________________________\n",
      " Layer (type)                Output Shape              Param #   \n",
      "=================================================================\n",
      " dense (Dense)               (None, 128)               3456      \n",
      "                                                                 \n",
      " dense_1 (Dense)             (None, 128)               16512     \n",
      "                                                                 \n",
      " dense_2 (Dense)             (None, 64)                8256      \n",
      "                                                                 \n",
      " dense_3 (Dense)             (None, 64)                4160      \n",
      "                                                                 \n",
      " dense_4 (Dense)             (None, 1)                 65        \n",
      "                                                                 \n",
      "=================================================================\n",
      "Total params: 32,449\n",
      "Trainable params: 32,449\n",
      "Non-trainable params: 0\n",
      "_________________________________________________________________\n"
     ]
    }
   ],
   "source": [
    "#Código de la inspección del modelo de red\n",
    "modelo1.summary()"
   ]
  },
  {
   "cell_type": "markdown",
   "id": "ea9ce204",
   "metadata": {},
   "source": [
    "##  Ajuste de modelo de Regresión RNA"
   ]
  },
  {
   "cell_type": "markdown",
   "id": "431b3d70",
   "metadata": {},
   "source": [
    "Mediante Python y utilizando al menos Keras sobre TensorFlow 2.0 (tensorflow.keras), entrena el modelo o modelos de red neuronal escogidos."
   ]
  },
  {
   "cell_type": "code",
   "execution_count": 12,
   "id": "bbddc873",
   "metadata": {
    "scrolled": true
   },
   "outputs": [
    {
     "name": "stdout",
     "output_type": "stream",
     "text": [
      "\n",
      "....................................................................................................\n",
      "....................................................................................................\n",
      "....................................................................................................\n",
      "....................................................................................................\n",
      "....................................................................................................\n",
      "....................................................................................................\n",
      "....................................................................................................\n",
      "....................................................................................................\n",
      "....................................................................................................\n",
      "...................................................................................................."
     ]
    }
   ],
   "source": [
    "#Código de ajuste y entrenamiento\n",
    "class PrintDot(keras.callbacks.Callback):\n",
    "    def on_epoch_end(self, epoch, logs):\n",
    "        if epoch % 100 == 0: print('')\n",
    "        print('.', end='')\n",
    "\n",
    "EPOCHS = 1000\n",
    "\n",
    "history = modelo1.fit(x_train, y_train, epochs=EPOCHS, validation_split = 0.2, verbose=0, callbacks=[PrintDot()])"
   ]
  },
  {
   "cell_type": "markdown",
   "id": "aa4b8461",
   "metadata": {},
   "source": [
    "## Evaluación de modelo RNA\n",
    "\n",
    "Defina las estadísticas (métricas) de evaluación, y dividiendo el dataset en datos de entrenamiento, validación y datos de test prueba tu propuesta.\n"
   ]
  },
  {
   "cell_type": "markdown",
   "id": "7c6f1b82",
   "metadata": {},
   "source": [
    "### Visualice el progreso de entrenamiento del modelo y muestre las estadísticas de evaluación para los conjuntos de entrenamiento y validación.  "
   ]
  },
  {
   "cell_type": "code",
   "execution_count": 13,
   "id": "f5705932",
   "metadata": {},
   "outputs": [
    {
     "name": "stdout",
     "output_type": "stream",
     "text": [
      "mae es el error absoluto entre las predicciones y la variable objetivo:\n"
     ]
    },
    {
     "data": {
      "image/png": "[encoded data removed]",
      "text/plain": [
       "<Figure size 400x400 with 1 Axes>"
      ]
     },
     "metadata": {},
     "output_type": "display_data"
    },
    {
     "name": "stdout",
     "output_type": "stream",
     "text": [
      "mse es el error cuadratico medio de las predicciones y la variable objetivo:\n"
     ]
    },
    {
     "data": {
      "image/png": "[encoded data removed]",
      "text/plain": [
       "<Figure size 400x400 with 1 Axes>"
      ]
     },
     "metadata": {},
     "output_type": "display_data"
    }
   ],
   "source": [
    "#En el entrenamiento de la red neuronal se obtuvieron los parámetros \"mae\" y \"mse\". mae es el error absoluto medio \n",
    "#y mse es el error cuadratico medio. Estas métricas nos entregan información sobre la exactitud del modelo,\n",
    "#pero primero lo analizaremos visualmente: \n",
    "def plot_history(history):\n",
    "    hist = pd.DataFrame(history.history)\n",
    "    hist['epoch'] = history.epoch\n",
    "    print(\"mae es el error absoluto entre las predicciones y la variable objetivo:\")    \n",
    "    plt.figure(figsize=[4,4])\n",
    "    plt.xlabel('Epoch')\n",
    "    plt.ylabel('Error absoluto medio [price]')\n",
    "    plt.plot(hist['epoch'], hist['mae'], label='Error de entrenamiento')\n",
    "    plt.plot(hist['epoch'], hist['val_mae'], label = 'Error de validación')\n",
    "    plt.ylim([0,200])\n",
    "    plt.legend()\n",
    "    plt.show()\n",
    "    \n",
    "    print(\"mse es el error cuadratico medio de las predicciones y la variable objetivo:\")\n",
    "    plt.figure(figsize=[4,4])\n",
    "    plt.xlabel('Epoch')\n",
    "    plt.ylabel('Error cuadratico medio [$price^2$]')\n",
    "    plt.plot(hist['epoch'], hist['mse'], label='Error de entrevamiento')\n",
    "    plt.plot(hist['epoch'], hist['val_mse'], label = 'Error de validación')\n",
    "    plt.ylim([0,50000])\n",
    "    plt.legend()\n",
    "    plt.show()\n",
    "\n",
    "plot_history(history)"
   ]
  },
  {
   "cell_type": "markdown",
   "id": "0d979a4c",
   "metadata": {},
   "source": [
    "#### De los gráficos concluimos que 1000 épocas son suficientes para el entrenamiento del modelo, la convergencia no mejora luego de 800 épocas."
   ]
  },
  {
   "cell_type": "code",
   "execution_count": 14,
   "id": "323dc8a5",
   "metadata": {},
   "outputs": [
    {
     "name": "stdout",
     "output_type": "stream",
     "text": [
      "44/44 [==============================] - 0s 2ms/step\n",
      "MSE RF :  7858.514665817033\n",
      "MAE RF :  72.11845583234515\n"
     ]
    }
   ],
   "source": [
    "#Código de evaluación de la red propuesta (entrenamiento y validación)\n",
    "modelo1_predicciones_train = modelo1.predict(x_train) #predicciones set de entrenamiento\n",
    "train_mse_m1=mean_squared_error(y_train, modelo1_predicciones_train, squared=True)\n",
    "train_mae_m1=mean_absolute_error(y_train, modelo1_predicciones_train)\n",
    "print('MSE RF : ' , train_mse_m1)\n",
    "print('MAE RF : ', train_mae_m1)"
   ]
  },
  {
   "cell_type": "markdown",
   "id": "eda5b77c",
   "metadata": {},
   "source": [
    "### Evalúe los resultados  para el conjunto de test."
   ]
  },
  {
   "cell_type": "code",
   "execution_count": 15,
   "id": "f90e7622",
   "metadata": {},
   "outputs": [
    {
     "name": "stdout",
     "output_type": "stream",
     "text": [
      "19/19 [==============================] - 0s 2ms/step\n",
      "MSE RF :  9473.259367153485\n",
      "MAE RF :  73.19686355590821\n"
     ]
    }
   ],
   "source": [
    "#Código de evaluación de la red propuesta (evaluación conjunto de test)\n",
    "modelo1_predicciones_test = modelo1.predict(x_test) #predicciones set de prueba\n",
    "test_mse_m1=mean_squared_error(y_test, modelo1_predicciones_test, squared=True)\n",
    "test_mae_m1=mean_absolute_error(y_test, modelo1_predicciones_test)\n",
    "print('MSE RF : ' , test_mse_m1)\n",
    "print('MAE RF : ', test_mae_m1)"
   ]
  },
  {
   "cell_type": "code",
   "execution_count": 16,
   "id": "488b7778",
   "metadata": {},
   "outputs": [
    {
     "name": "stdout",
     "output_type": "stream",
     "text": [
      "Coeficiente correlación - train:  0.9937\n",
      "Coeficiente correlación - test:  0.9922\n"
     ]
    }
   ],
   "source": [
    "#se calcula el coeficiente de correlación entre las predicciones y los datos de prueba de la variable objetivo\n",
    "r11=scipy.stats.pearsonr(modelo1_predicciones_train.flatten(), y_train)[0].round(4)\n",
    "r12=scipy.stats.pearsonr(modelo1_predicciones_test.flatten(), y_test)[0].round(4)\n",
    "print('Coeficiente correlación - train: ',r11)\n",
    "print('Coeficiente correlación - test: ',r12)"
   ]
  },
  {
   "cell_type": "markdown",
   "id": "6319adad",
   "metadata": {},
   "source": [
    "## Ajuste de modelos de Regresión alternativos"
   ]
  },
  {
   "cell_type": "markdown",
   "id": "d552bc64",
   "metadata": {},
   "source": [
    "Elige al menos un método de regresión no basado en redes neuronales (p.ej. regresión lineal, regresión polinómica, regresión logarítmica, SVR, random forest regression, etc.)."
   ]
  },
  {
   "cell_type": "code",
   "execution_count": 17,
   "id": "d5d2b2c6",
   "metadata": {},
   "outputs": [],
   "source": [
    "#Código de ajuste del modelo 1 - Random forest Regressor \n",
    "modelo2=RandomForestRegressor(n_estimators=400, criterion='absolute_error') #se escogieron 400 árboles para el modelo \n",
    "modelo2.fit(x_train, y_train) #entrenamiento de el modelo\n",
    "modelo2_predicciones_train = modelo2.predict(x_train) #predicciones set de entrenamiento \n",
    "modelo2_predicciones_test = modelo2.predict(x_test) #predicciones set de prueba "
   ]
  },
  {
   "cell_type": "code",
   "execution_count": 18,
   "id": "33f5be2a",
   "metadata": {
    "ExecuteTime": {
     "end_time": "2022-04-25T07:21:39.020596Z",
     "start_time": "2022-04-25T07:21:39.005596Z"
    }
   },
   "outputs": [],
   "source": [
    "#Código de ajuste del modelo 2 - Suport Vector Machine Regressor \n",
    "modelo3=svm.SVR(kernel='linear') #se escoge un modelo líneal \n",
    "modelo3.fit(x_train, y_train) #entrenamiento de el modelo\n",
    "modelo3_predicciones_train = modelo3.predict(x_train) #predicciones set de entrenamiento \n",
    "modelo3_predicciones_test = modelo3.predict(x_test) #predicciones set de prueba "
   ]
  },
  {
   "cell_type": "code",
   "execution_count": 19,
   "id": "a2e675b3",
   "metadata": {},
   "outputs": [
    {
     "name": "stdout",
     "output_type": "stream",
     "text": [
      "MSE RFR - train:  1173.7580302689732\n",
      "MAE RFR - train:  27.257911607142855\n",
      "MSE SVR - train:  367159.9049771509\n",
      "MAE SVR - train:  284.83442631200296\n",
      "Coeficiente correlación - train - RFR:  0.9991\n",
      "Coeficiente correlación - train - SVR:  0.9462\n",
      "             \n",
      "MSE RFR - test:  7705.59205098177\n",
      "MAE RFR - test:  69.59853125\n",
      "MSE SVR - test:  360731.8192310311\n",
      "MAE SVR - test:  283.4781343123666\n",
      "Coeficiente correlación - test - RFR:  0.9937\n",
      "Coeficiente correlación - test - SVR:  0.9354\n"
     ]
    }
   ],
   "source": [
    "#Código para mostrar la evaluación de los modelos\n",
    "#evaluación del set de prueba para ambos modelos \n",
    "train_mse_m2=mean_squared_error(y_train, modelo2_predicciones_train, squared=True) #calculo de error cuadratico medio \n",
    "train_mae_m2=mean_absolute_error(y_train, modelo2_predicciones_train) \n",
    "print('MSE RFR - train: ' , train_mse_m2)\n",
    "print('MAE RFR - train: ', train_mae_m2)\n",
    "\n",
    "train_mse_m3=mean_squared_error(y_train, modelo3_predicciones_train, squared=True) #calculo de error cuadratico medio \n",
    "train_mae_m3=mean_absolute_error(y_train, modelo3_predicciones_train)\n",
    "print('MSE SVR - train: ' , train_mse_m3)\n",
    "print('MAE SVR - train: ', train_mae_m3)\n",
    "\n",
    "r21=scipy.stats.pearsonr(modelo2_predicciones_train.flatten(), y_train)[0].round(4)\n",
    "r31=scipy.stats.pearsonr(modelo3_predicciones_train.flatten(), y_train)[0].round(4)\n",
    "print('Coeficiente correlación - train - RFR: ',r21)\n",
    "print('Coeficiente correlación - train - SVR: ',r31)\n",
    "\n",
    "print('             ')\n",
    "#evaluación del set de entrenamiento para ambos modelos\n",
    "test_mse_m2=mean_squared_error(y_test, modelo2_predicciones_test, squared=True) #calculo de error cuadratico medio \n",
    "test_mae_m2=mean_absolute_error(y_test, modelo2_predicciones_test)\n",
    "print('MSE RFR - test: ' , test_mse_m2)\n",
    "print('MAE RFR - test: ', test_mae_m2)\n",
    "\n",
    "test_mse_m3=mean_squared_error(y_test, modelo3_predicciones_test, squared=True) #calculo de error cuadratico medio \n",
    "test_mae_m3=mean_absolute_error(y_test, modelo3_predicciones_test)\n",
    "print('MSE SVR - test: ' , test_mse_m3)\n",
    "print('MAE SVR - test: ', test_mae_m3)\n",
    "\n",
    "r22=scipy.stats.pearsonr(modelo2_predicciones_test.flatten(), y_test)[0].round(4)\n",
    "r32=scipy.stats.pearsonr(modelo3_predicciones_test.flatten(), y_test)[0].round(4)\n",
    "print('Coeficiente correlación - test - RFR: ',r22)\n",
    "print('Coeficiente correlación - test - SVR: ',r32)"
   ]
  },
  {
   "cell_type": "markdown",
   "id": "ad219a0c",
   "metadata": {},
   "source": [
    "Se realizan 2 modelos a modo de comparación. El primer modelo es un Random Forest Regressor (RFR), con 400 árboles, el segundo es un Support Vector Machine Regressor (SVR). \n",
    "El modelo que más se ajusta a nuestro set de datos es el RFR. Para concluir esto se calculó el error absoluto medio (mae), el error cuadrático medio (mse) y el coeficiente de correlación (r) entre las predicciones y los datos de la variable objetivo (precio). Estos cálculos se hicieron para el set de prueba y el set de entrenamiento. \n",
    "- Para el set de entrenamiento: el valor de \"mae\" para RFR es de 27 y para SVR de 284 y el coeficiente r es de 0.99 y 0.94. Si bien ambos coeficientes son similares e indicar una fuerte correlación, el error dice todo lo contrario.\n",
    "- Para el set de prueba: el valor de \"mae\" para RFR es de 69 y para SVR de 283 y el coeficiente r es de 0.99 y 0.93. Si bien ambos coeficientes son similares e indicar una fuerte correlación, el error nuevamente dice todo lo contrario.\n",
    "\n",
    "Debido a los parámetros antes mencionados, se descarta SVR como modelo de predicción para este dataset, los resultados son muy inestables a pesar de tener un buen coeficiente de correlación, sin embargo, el error es muy alto, considerando que el rango de la variable a predecir (precio) es de 326 y 3099. "
   ]
  },
  {
   "cell_type": "markdown",
   "id": "44df4eb5",
   "metadata": {},
   "source": [
    "## Comparación del desempeño de modelos\n",
    "\n",
    "Muestra los resultados obtenidos por los diferentes algoritmos escogidos de forma gráfica y comparada/superpuesta."
   ]
  },
  {
   "cell_type": "code",
   "execution_count": 20,
   "id": "fe4acd93",
   "metadata": {},
   "outputs": [
    {
     "name": "stdout",
     "output_type": "stream",
     "text": [
      "+---------------------------------+----------------+---------------------------+-------------+\n",
      "| Parámetro                       |   Red Neuronal |   Random Forest Regressor |         SVR |\n",
      "+=================================+================+===========================+=============+\n",
      "| MSE - train                     |      7858.51   |                 1173.76   | 367160      |\n",
      "+---------------------------------+----------------+---------------------------+-------------+\n",
      "| MSE- test                       |      9473.26   |                 7705.59   | 360732      |\n",
      "+---------------------------------+----------------+---------------------------+-------------+\n",
      "| MAE - train                     |        72.1185 |                   27.2579 |    284.834  |\n",
      "+---------------------------------+----------------+---------------------------+-------------+\n",
      "| MAE- test                       |        73.1969 |                   69.5985 |    283.478  |\n",
      "+---------------------------------+----------------+---------------------------+-------------+\n",
      "| Coeficiente correlación - train |         0.9937 |                    0.9991 |      0.9462 |\n",
      "+---------------------------------+----------------+---------------------------+-------------+\n",
      "| Coeficiente correlación - test  |         0.9922 |                    0.9937 |      0.9354 |\n",
      "+---------------------------------+----------------+---------------------------+-------------+\n"
     ]
    }
   ],
   "source": [
    "#Código para mostrar la comparación de métricas de desempeño de las dos propuestas en tabla\n",
    "tabla=[[\"MSE - train\", train_mse_m1, train_mse_m2, train_mse_m3],\n",
    "       [\"MSE- test\", test_mse_m1, test_mse_m2, test_mse_m3],\n",
    "       [\"MAE - train\", train_mae_m1, train_mae_m2, train_mae_m3],\n",
    "       [\"MAE- test\", test_mae_m1, test_mae_m2, test_mae_m3], \n",
    "       [\"Coeficiente correlación - train\", r11, r21, r31],\n",
    "       [\"Coeficiente correlación - test\", r12, r22, r32]\n",
    "      ]\n",
    "\n",
    "columnas = [\"Parámetro\", \"Red Neuronal\", \"Random Forest Regressor\", \"SVR\"]\n",
    "print(tabulate(tabla, headers=columnas, tablefmt=\"grid\"))"
   ]
  },
  {
   "cell_type": "code",
   "execution_count": 21,
   "id": "01ebfbd2",
   "metadata": {},
   "outputs": [
    {
     "name": "stdout",
     "output_type": "stream",
     "text": [
      "19/19 [==============================] - 0s 2ms/step\n"
     ]
    },
    {
     "data": {
      "image/png": "[encoded data removed]",
      "text/plain": [
       "<Figure size 640x480 with 3 Axes>"
      ]
     },
     "metadata": {},
     "output_type": "display_data"
    }
   ],
   "source": [
    "#Código para mostrar la comparación de métricas de desempeño de las dos propuestas en gráfica\n",
    "test_predicciones1 = modelo1.predict(x_test).flatten()\n",
    "error1 = test_predicciones1 - y_test\n",
    "test_predicciones2 = modelo2.predict(x_test).flatten()\n",
    "error2 = test_predicciones2 - y_test\n",
    "test_predicciones3 = modelo3.predict(x_test).flatten()\n",
    "error3 = test_predicciones3 - y_test\n",
    "\n",
    "#gráficos de dispersión para los 3 modelos para observar correlación \n",
    "figure=plt.gcf()\n",
    "plt.subplots_adjust(wspace=1, hspace=2)\n",
    "#Red neuronal\n",
    "plt.subplot(1,3,1)\n",
    "plt.scatter(y_test, test_predicciones1)\n",
    "plt.xlabel('True Values [price]')\n",
    "plt.ylabel('Predictions [price]')\n",
    "plt.axis('equal')\n",
    "plt.axis('square')\n",
    "plt.title('RN')\n",
    "plt.xlim([0,plt.xlim()[1]])\n",
    "plt.ylim([0,plt.ylim()[1]])\n",
    "plt.plot([-10000, 10000], [-10000, 10000])\n",
    "#RFR\n",
    "plt.subplot(1,3,2)\n",
    "plt.scatter(y_test, test_predicciones2)\n",
    "plt.xlabel('True Values [price]')\n",
    "plt.ylabel('Predictions [price]')\n",
    "plt.axis('equal')\n",
    "plt.axis('square')\n",
    "plt.title('RFR')\n",
    "plt.xlim([0,plt.xlim()[1]])\n",
    "plt.ylim([0,plt.ylim()[1]])\n",
    "plt.plot([-10000, 10000], [-10000, 10000])\n",
    "#SVR\n",
    "plt.subplot(1,3,3)\n",
    "plt.scatter(y_test, test_predicciones3)\n",
    "plt.xlabel('True Values [price]')\n",
    "plt.ylabel('Predictions [price]')\n",
    "plt.axis('equal')\n",
    "plt.axis('square')\n",
    "plt.title('SVR')\n",
    "plt.xlim([0,plt.xlim()[1]])\n",
    "plt.ylim([0,plt.ylim()[1]])\n",
    "plt.plot([-10000, 10000], [-10000, 10000])\n",
    "\n",
    "fig.suptitle('True values v/s Predicciones')\n",
    "plt.show()"
   ]
  },
  {
   "cell_type": "code",
   "execution_count": 22,
   "id": "8e5460c9",
   "metadata": {},
   "outputs": [
    {
     "data": {
      "image/png": "[encoded data removed]",
      "text/plain": [
       "<Figure size 640x480 with 3 Axes>"
      ]
     },
     "metadata": {},
     "output_type": "display_data"
    }
   ],
   "source": [
    "#histograma de error entre las predicciones y el set de prueba de la varible objetivo \"price\" para los 3 modelos\n",
    "figure=plt.gcf()\n",
    "plt.subplots_adjust(wspace=1, hspace=2)\n",
    "#red neuronal \n",
    "plt.subplot(1,3,1)\n",
    "plt.hist(error1, bins = 25)\n",
    "plt.title('RN')\n",
    "#RFR\n",
    "plt.subplot(1,3,2)\n",
    "plt.hist(error2, bins = 25)\n",
    "plt.title('RFR')\n",
    "#SVR\n",
    "plt.subplot(1,3,3)\n",
    "plt.hist(error3, bins = 25)\n",
    "plt.title('SVR')\n",
    "\n",
    "fig.suptitle('Prediction Error [price]')\n",
    "plt.show()"
   ]
  },
  {
   "cell_type": "markdown",
   "id": "f11d5ab4",
   "metadata": {},
   "source": [
    "En el primer set de datos se observan los gráficos de dispersión para los 3 modelos para visualizar la correlación de los datos de la varible objetivo \"price\" y las predicciones. SVR es modelo que entrega la predicción más errónea, los datos no siguen una regresión lineal. \n",
    "En cuanto a la red neuronal y RFR, estos modelos se comportan suficientemente bien como para confiar en sus predicciones. \n",
    "Si sumanmos al análisis la distribución de los errores, nuevamente SVR presenta errores muy altos en comparación de la red neuronal y RFR, siendo la red neuronal el modelo que más concentra su error alrededor de 0. "
   ]
  },
  {
   "cell_type": "markdown",
   "id": "f810fb47",
   "metadata": {
    "ExecuteTime": {
     "end_time": "2022-03-14T16:16:57.134093Z",
     "start_time": "2022-03-14T16:16:57.117129Z"
    }
   },
   "source": [
    "## Discusión de los resultados obtenidos y argumentos sobre cómo se podrían mejorar de dichos resultados"
   ]
  },
  {
   "cell_type": "markdown",
   "id": "2905dad3",
   "metadata": {},
   "source": [
    "Al analizar las distintas métricas para los 3 modelos estudiados, es dificil elegir entre la red neuronal o el random forest regressor. \n",
    "Automaticamente se descarta el modelo Support Vector Machine Regressor debido a las métricas entregadas: mae de prueba 284 y mae de entrenamiento 283. Debemos considerar el rango de la variable objetivo (326 y 3099). Si permitimos el error del modelo SVR, la predicción se alejaría considerablemente de el valor real. \n",
    "Ahora, entre la red neuronal y RFR las métricas son similares: \n",
    "- mae entrenamiento y test red neuronal: 72 y 73\n",
    "- mae entrenamiento y test RFR: 27 y 69. \n",
    "- coeficiente correlación entrenamiento y test ambos modelos: 0.99 y 0.99 / 0.99 y 0.99\n",
    "\n",
    "El coeficiente de correlación es excelente para ambos modelos en los set de datos y entrenamiento, pero visualmente observamos algo distinto: la red no se ajustan tan bien. Tomemos en cuenta los valores de mae para el set de prueba: 74 y 69 (red neuronal y RFR), valores similares y poco definitorios. Agregamos la distribución de error que se produce entre los valores predichos y los reales de prueba (y_test), la red neuronal presenta el mejor comportamiento, visualmente estos valores están concentrados alrededor de 0. \n",
    "\n",
    "Con las métricas analizadas, podemos concluir que la red neuronal esta por sobre RFR y SVR, por lo que deducimos que la predicción del precio de los diamantes es confiable, sin embargo, esto se puede mejorar.\n",
    "\n",
    "Una mejora para los resultados obtenidos es utilizar un set de datos con variables balanceadas. Cuando se tienen datos dispersos los modelos de predicción tienden a entregar resultados erróneos. Si no es posible conseguir un set de datos más homógeneo, la estándarización de datos puede ser una forma rápida y al alcance para modelar. \n",
    "\n",
    "También existen capas de para prevenir el sobre o poco ajuste, como \"tf.keras.layers.Dropout\". Al modelar la red neuronal se utilizaron a modo de prueba, pero para este set de datos solo obstaculizaba la convergencia. "
   ]
  },
  {
   "cell_type": "code",
   "execution_count": 23,
   "id": "c3277a53",
   "metadata": {},
   "outputs": [],
   "source": [
    "#from ann_visualizer.visualize import ann_viz\n",
    "#ann_viz(modelo1, title=\"Red Neuronal Artificial - Regresión\");"
   ]
  }
 ],
 "metadata": {
  "kernelspec": {
   "display_name": "Python 3 (ipykernel)",
   "language": "python",
   "name": "python3"
  },
  "language_info": {
   "codemirror_mode": {
    "name": "ipython",
    "version": 3
   },
   "file_extension": ".py",
   "mimetype": "text/x-python",
   "name": "python",
   "nbconvert_exporter": "python",
   "pygments_lexer": "ipython3",
   "version": "3.9.13"
  },
  "toc": {
   "base_numbering": 1,
   "nav_menu": {},
   "number_sections": true,
   "sideBar": true,
   "skip_h1_title": true,
   "title_cell": "Tabla de Contenido",
   "title_sidebar": "Contenido",
   "toc_cell": false,
   "toc_position": {
    "height": "calc(100% - 180px)",
    "left": "10px",
    "top": "150px",
    "width": "263.591px"
   },
   "toc_section_display": true,
   "toc_window_display": true
  }
 },
 "nbformat": 4,
 "nbformat_minor": 5
}
